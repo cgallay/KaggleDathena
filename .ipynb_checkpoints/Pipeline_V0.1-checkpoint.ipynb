{
 "cells": [
  {
   "cell_type": "code",
   "execution_count": null,
   "metadata": {},
   "outputs": [],
   "source": [
    "%load_ext autoreload\n",
    "%autoreload 2\n",
    "import glob2\n",
    "import text_summarization\n",
    "import extract_text"
   ]
  },
  {
   "cell_type": "code",
   "execution_count": null,
   "metadata": {
    "collapsed": true
   },
   "outputs": [],
   "source": [
    "keppels_files = glob2.glob('files/Keppel/*')\n",
    "prudential_files = glob2.glob('files/Prudential/*')"
   ]
  },
  {
   "cell_type": "code",
   "execution_count": null,
   "metadata": {},
   "outputs": [],
   "source": [
    "for file in keppels_files:\n",
    "    print(file)\n",
    "    #The whole pipeline for that file goes here\n",
    "    text = extract_text.apply(file)\n",
    "    important_sents = text_summarization.apply(text)\n",
    "    #From here you can use your sentiment analysis code to find the sentiment over each important sentence\n",
    "    #We then average the sentement to find the overall sentiment for that file.\n",
    "    "
   ]
  },
  {
   "cell_type": "code",
   "execution_count": null,
   "metadata": {
    "collapsed": true
   },
   "outputs": [],
   "source": []
  }
 ],
 "metadata": {
  "kernelspec": {
   "display_name": "Python 3",
   "language": "python",
   "name": "python3"
  },
  "language_info": {
   "codemirror_mode": {
    "name": "ipython",
    "version": 3
   },
   "file_extension": ".py",
   "mimetype": "text/x-python",
   "name": "python",
   "nbconvert_exporter": "python",
   "pygments_lexer": "ipython3",
   "version": "3.6.4"
  }
 },
 "nbformat": 4,
 "nbformat_minor": 2
}
