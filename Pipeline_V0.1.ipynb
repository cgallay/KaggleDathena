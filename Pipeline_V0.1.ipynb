{
 "cells": [
  {
   "cell_type": "code",
   "execution_count": 1,
<<<<<<< HEAD
   "metadata": {
    "collapsed": true
   },
=======
   "metadata": {},
>>>>>>> f00f855e433ca8280832a6f96cf433f9a8807039
   "outputs": [],
   "source": [
    "%load_ext autoreload\n",
    "%autoreload 2\n",
    "import text_summarization\n",
    "import extract_text"
   ]
  },
  {
   "cell_type": "code",
<<<<<<< HEAD
   "execution_count": 3,
   "metadata": {
    "collapsed": true
   },
   "outputs": [],
   "source": [
    "keppels_files = glob2.glob('files/Keppel/*')\n",
    "prudential_files = glob2.glob('files/Prudential/*')\n"
=======
   "execution_count": 2,
   "metadata": {},
   "outputs": [
    {
     "data": {
      "text/plain": [
       "[('0', 'JD_KDCREIT%20-%20Asset%20Mgt_Analyst_2017.pdf', 'Keppel'),\n",
       " ('1', '5f4c7c69049c32670176932fd1d305271372e912.pdf', 'Keppel'),\n",
       " ('2', '20100319_214216_BN4_F6859A6425BC8427482576EB00331260.1.pdf', 'Keppel')]"
      ]
     },
     "execution_count": 2,
     "metadata": {},
     "output_type": "execute_result"
    }
   ],
   "source": [
    "fileMap = extract_text.mapperOpener(\"submission_mapper.csv\")[1:]\n",
    "fileMap[:3]"
>>>>>>> f00f855e433ca8280832a6f96cf433f9a8807039
   ]
  },
  {
   "cell_type": "code",
<<<<<<< HEAD
   "execution_count": 5,
   "metadata": {},
   "outputs": [
    {
     "data": {
      "text/plain": [
       "['files/Keppel/KLL_AR2002a.pdf',\n",
       " 'files/Keppel/02224.doc',\n",
       " 'files/Keppel/AB3Q2012.pdf',\n",
       " 'files/Keppel/Lewin_130908_Sup.pdf',\n",
       " 'files/Keppel/AB2-2017.pdf',\n",
       " 'files/Keppel/REP-1437137611.pdf',\n",
       " 'files/Keppel/24122137.pdf',\n",
       " 'files/Keppel/ECCOI_SocialSciences.xlsx',\n",
       " 'files/Keppel/otc-history-sample.xls',\n",
       " 'files/Keppel/KCL.pdf',\n",
       " 'files/Keppel/013.xls',\n",
       " 'files/Keppel/mar16.pdf',\n",
       " 'files/Keppel/GMs%20of%20England.doc',\n",
       " 'files/Keppel/Rule_Ann-Kiss_Me_Kill_Me.doc',\n",
       " 'files/Keppel/sigdatabasecohort2.xls',\n",
       " 'files/Keppel/KLL_in_China_Feb2004.pdf',\n",
       " 'files/Keppel/SG.CompleteData1990.xls',\n",
       " 'files/Keppel/Suggested%20Student%20Book%20Report%20List.docx',\n",
       " 'files/Keppel/54214cdb0cf2ce3a91b6e2bd.pdf',\n",
       " 'files/Keppel/bijalkvp.doc',\n",
       " 'files/Keppel/2011_September.pdf',\n",
       " 'files/Keppel/Annual-Report-2010.pdf',\n",
       " 'files/Keppel/standcontributorspre1999.xls',\n",
       " 'files/Keppel/B4_2_TUAN-Loh-Ah_Keppel-Seghers-Engineering-Singapore.pdf',\n",
       " 'files/Keppel/KPH-GIS_2014_-_Amended.pdf',\n",
       " 'files/Keppel/71ccf886dec91f39fda7f209fc4e67e88186c677.pdf',\n",
       " 'files/Keppel/test.doc',\n",
       " 'files/Keppel/Department%20of%20Health%20Murray%20Motion%202013.xlsx',\n",
       " 'files/Keppel/Londen_Final.pdf',\n",
       " 'files/Keppel/Student%20Bulletin%201.docx',\n",
       " 'files/Keppel/Allianz-Hongkou-SOHO_EN.pdf',\n",
       " 'files/Keppel/39_84586.pdf',\n",
       " 'files/Keppel/2009_069.doc',\n",
       " 'files/Keppel/DMH_IBHIS_Dictionary_Values_v3_9_6.xls',\n",
       " 'files/Keppel/07_July_2016.pdf',\n",
       " 'files/Keppel/KGT1Q2014%20Results.pdf',\n",
       " 'files/Keppel/Ads.pdf',\n",
       " 'files/Keppel/Sept2016ebooks.xlsx',\n",
       " 'files/Keppel/2013110512-21-2013_July_issue.pdf',\n",
       " 'files/Keppel/04_April_2016.pdf',\n",
       " 'files/Keppel/e008682.draft-revisions.pdf',\n",
       " 'files/Keppel/20150513140641463.xls',\n",
       " 'files/Keppel/BRD-Jan-2017.xlsx',\n",
       " 'files/Keppel/Handout-oct14-final-version-17-10-2014.docx',\n",
       " 'files/Keppel/53_11338.pdf',\n",
       " 'files/Keppel/order_form_sis_2015_2016.xls',\n",
       " 'files/Keppel/contract_of_employment.doc',\n",
       " 'files/Keppel/mentor_app_form_p57-59.doc',\n",
       " 'files/Keppel/299295322.pdf',\n",
       " 'files/Keppel/BRD-October.xlsx',\n",
       " 'files/Keppel/Submission+to+the+Human+Rights+and+Equal+Opportunity+Commission.doc',\n",
       " 'files/Keppel/02_February_2016.pdf',\n",
       " 'files/Keppel/KCL_AR2014_Risk_Management.pdf',\n",
       " 'files/Keppel/DA-17-796A1.docx',\n",
       " 'files/Keppel/KCL_AR2015_Keppel_Group_Boards_of_Directors.pdf',\n",
       " 'files/Keppel/GBR_Outlook_2014_Chapter5_Commercial_and_non_commercial_use.docx',\n",
       " 'files/Keppel/TPG500%20Loadout%20press%20release%20July%202004.doc',\n",
       " 'files/Keppel/5f4c7c69049c32670176932fd1d305271372e912.pdf',\n",
       " 'files/Keppel/keppel_wickens_design_and_analysis.pdf',\n",
       " 'files/Keppel/KLL_AR2003.pdf',\n",
       " 'files/Keppel/Classifying-Serial-Sexual-Murder-Murderers-An-Attempt-to-Validate-Keppel-and-Walters-1999-Model.pdf',\n",
       " 'files/Keppel/SSA2211.docx',\n",
       " 'files/Keppel/KCL_AR2014_Product_Excellence.pdf',\n",
       " 'files/Keppel/Singapore_Salary_press_release_Dec_2011_Salary_outlook_still_positive_despite_subdued_economy.pdf',\n",
       " 'files/Keppel/list+of+books+on+political+sciences+2010.xls',\n",
       " 'files/Keppel/03_March_2015.pdf',\n",
       " 'files/Keppel/Current%20Week%27s%20PTC.xls',\n",
       " 'files/Keppel/KCL_AR2015_Product_Excellence.pdf',\n",
       " 'files/Keppel/consumersovereigntyantitrustlaw1997.doc',\n",
       " 'files/Keppel/KOMTechnology%20StrategyJuly03v3.pdf',\n",
       " 'files/Keppel/Baku-inauguration-panels.pdf',\n",
       " 'files/Keppel/2012-CORRECT-Leading-Lights-Event-Press-Release1.docx',\n",
       " 'files/Keppel/8ddd18230fa8604ca472dac0be9618dd.pdf',\n",
       " 'files/Keppel/00b4953c6710106104000000.pdf',\n",
       " 'files/Keppel/AB4-2016.pdf',\n",
       " 'files/Keppel/all-states.xls',\n",
       " 'files/Keppel/Wetherby-and-Keppel-Web-2016.pdf',\n",
       " 'files/Keppel/BDO-LTNCTD-Due-2020-Final-OC.pdf',\n",
       " 'files/Keppel/bmap_text_8.doc',\n",
       " 'files/Keppel/pre_13sep2010_n2.pdf',\n",
       " 'files/Keppel/peza_firms_03-31-2013.xls',\n",
       " 'files/Keppel/Dec06.xls',\n",
       " 'files/Keppel/Cuba+Oil+AFF+-+GMP+-+MGW+13.docx',\n",
       " 'files/Keppel/20160316-Labor-labels-Great-Keppel-Island-insignificant-SPRINGBORG.pdf',\n",
       " 'files/Keppel/freund.doc',\n",
       " 'files/Keppel/KLL_SR2011.pdf',\n",
       " 'files/Keppel/Long%20Term%20Memory.doc',\n",
       " 'files/Keppel/sin63964.doc',\n",
       " 'files/Keppel/CG2014.pdf',\n",
       " 'files/Keppel/03_March_2016.pdf',\n",
       " 'files/Keppel/59878_Russia%20100401.doc',\n",
       " 'files/Keppel/Full%20Council%20Minutes%2019-06-17%20(FINAL).pdf',\n",
       " 'files/Keppel/2017-DeepwaterPoster-D6-Ads.pdf',\n",
       " 'files/Keppel/Keppel%20REIT_AR2016.pdf',\n",
       " 'files/Keppel/DRFS-12.pdf',\n",
       " 'files/Keppel/WSHA2011%20Winners_8%20Aug.pdf',\n",
       " 'files/Keppel/News1212.doc',\n",
       " 'files/Keppel/PIF__06-24-2013_.xls',\n",
       " 'files/Keppel/2016.05.09%20May%20Minutes.pdf',\n",
       " 'files/Keppel/GOM.xlsx',\n",
       " 'files/Keppel/Sprott_Jason_2010.pdf',\n",
       " 'files/Keppel/gr_202050_2016.pdf',\n",
       " 'files/Keppel/BasicChristian_Info_News_Feed_Complete.docx',\n",
       " 'files/Keppel/2016_07_06_Singapore_Final_Country_Report.pdf',\n",
       " 'files/Keppel/cad_ar2016_web%20version.pdf',\n",
       " 'files/Keppel/inSYNC_ecopy.pdf',\n",
       " 'files/Keppel/KCL_AR2014_Key_Executives.pdf',\n",
       " 'files/Keppel/Oct.pdf',\n",
       " 'files/Keppel/circular-to-unitholders-2014.pdf',\n",
       " 'files/Keppel/CG2012.pdf',\n",
       " 'files/Keppel/Job%20description.docx',\n",
       " 'files/Keppel/20100319_214216_BN4_F6859A6425BC8427482576EB00331260.1.pdf',\n",
       " 'files/Keppel/STAT%20379s08%20study%20guide.doc',\n",
       " 'files/Keppel/om10_mar%20april%202010.pdf',\n",
       " 'files/Keppel/Dr%20Rob%20Kelly%20-%20Keppel%20Fels%20Loadout%20Speech.doc',\n",
       " 'files/Keppel/KepREIT_AR2015_Full_Report.pdf',\n",
       " 'files/Keppel/m0880700.pdf',\n",
       " 'files/Keppel/184e67fe3df641980f64ec3789d6d730cd59b0a7.pdf',\n",
       " 'files/Keppel/2017%202q%20issue.pdf',\n",
       " 'files/Keppel/160906_KIT-Investor-Presentation.pdf',\n",
       " 'files/Keppel/Dec.pdf',\n",
       " 'files/Keppel/Singapore%20Rig%20Builders%20-%20Keppel,%20SembMarine%20-%20In%20the%20midst%20of%20a%20perfect%20storm%20-%20JPM%209%20Jan.pdf',\n",
       " 'files/Keppel/nfholdings_1721961_0917.xlsx',\n",
       " 'files/Keppel/KTP_13AR_en.pdf',\n",
       " 'files/Keppel/How%20to%20complete%20the%20PIF%20guidance%20draft%20v0.5.doc',\n",
       " 'files/Keppel/Notes_from_readings.docx',\n",
       " 'files/Keppel/pcal_action_3_26.docx',\n",
       " 'files/Keppel/CYP%20Meeting%20May%202017docx.docx',\n",
       " 'files/Keppel/sr_2012_96370.pdf',\n",
       " 'files/Keppel/2014080409-59-2014_July_Issue.pdf',\n",
       " 'files/Keppel/sep.pdf',\n",
       " 'files/Keppel/1894acts_et.pdf',\n",
       " 'files/Keppel/KCL_AR2014_Operating_Financial_Review.pdf',\n",
       " 'files/Keppel/%DA%A9%D9%88%DA%A9%D8%A8.xls',\n",
       " 'files/Keppel/2011_August.pdf',\n",
       " 'files/Keppel/falkland_island_journal_article_list_1967_-2008.xls',\n",
       " 'files/Keppel/Report-to-Unitholders-2012.pdf',\n",
       " 'files/Keppel/nfa_list.xls',\n",
       " 'files/Keppel/CG2011.pdf',\n",
       " 'files/Keppel/THE-PROCESS-OF-TRAFFICKING-IN-HUMAN-BEINGS-PHASES-OF-COMMITING-THE-CRIME.pdf',\n",
       " 'files/Keppel/kepinfratrust-dbs-170417.pdf',\n",
       " 'files/Keppel/Keppel_Offshore_Marine.pdf',\n",
       " 'files/Keppel/sr_2011_96370.pdf',\n",
       " 'files/Keppel/Research+Design.doc',\n",
       " 'files/Keppel/32_18742.pdf',\n",
       " 'files/Keppel/AB2-2016.pdf',\n",
       " 'files/Keppel/price.xls',\n",
       " 'files/Keppel/55d5824a08ae6788fa3531f0.pdf',\n",
       " 'files/Keppel/KLL_SR2010.pdf',\n",
       " 'files/Keppel/KeppelNotesSeries1.pdf',\n",
       " 'files/Keppel/12_December_2015.pdf',\n",
       " 'files/Keppel/89301508197d40f17984d62f86679ca3.pdf',\n",
       " 'files/Keppel/Keppel%20Offshore%20&%20Marine%20Brochure.pdf',\n",
       " 'files/Keppel/2016%20jan-february%20issue.pdf',\n",
       " 'files/Keppel/Keppel%20Shipyard%20Brochure.pdf',\n",
       " 'files/Keppel/Adore+Home+Magazine+2_Stockists+List.xlsx',\n",
       " 'files/Keppel/annex%20a%20list%20of%20wsh%20awards%202011%20winners.pdf',\n",
       " 'files/Keppel/i_LanguageLiterature_200804.xls',\n",
       " 'files/Keppel/April.pdf',\n",
       " 'files/Keppel/KLL_AR2011.pdf',\n",
       " 'files/Keppel/P020160628597921671163.doc',\n",
       " 'files/Keppel/SUMATRA_INTERNEES_(_Version_1-1.1.0)%20(1)%20(Autosaved)%20copy.doc',\n",
       " 'files/Keppel/PALS-Bar-Ops-Pilipinas-Must-Read-Cases-CIVIL-2015.docx',\n",
       " 'files/Keppel/River-Oaks-IL-14-_-CHR-Library-Books1.xlsx',\n",
       " 'files/Keppel/SDAT_Holdings.xls',\n",
       " 'files/Keppel/K-Greentrust%20A4%20Cover_Final.pdf',\n",
       " 'files/Keppel/1075751457129.doc',\n",
       " 'files/Keppel/businessassociatelist--1-.xlsx',\n",
       " 'files/Keppel/2011_January.pdf',\n",
       " 'files/Keppel/FDI%20in%20India%20%E2%80%93%20Specific%20to%20Registered%20Real%20estate.doc',\n",
       " 'files/Keppel/singapore.pdf',\n",
       " 'files/Keppel/2015%20nov-december%20issue.pdf',\n",
       " 'files/Keppel/CV_MAY_2013.pdf',\n",
       " 'files/Keppel/Time-s-Excel-Tanker-incidents.xls',\n",
       " 'files/Keppel/om%20jan-feb%202011.pdf',\n",
       " 'files/Keppel/K-REIT-Asia-AR2011.pdf',\n",
       " 'files/Keppel/prospectus.pdf',\n",
       " 'files/Keppel/A-K.xls',\n",
       " 'files/Keppel/CDE-UC%20Approved%20CTE%20Courses%202013-14.doc',\n",
       " 'files/Keppel/intergraph_marineeditioninsight.pdf',\n",
       " 'files/Keppel/CultureSAFE_Participating_Co_1Feb2015.xlsx',\n",
       " 'files/Keppel/AB4Q-2013.pdf',\n",
       " 'files/Keppel/KCL_AR2015_Group_Structure.pdf',\n",
       " 'files/Keppel/KLL_AR2009.pdf',\n",
       " 'files/Keppel/0c960529f49c2bd6f5000000.pdf',\n",
       " 'files/Keppel/Report-to-Unitholders-2013.pdf',\n",
       " 'files/Keppel/grants.xls',\n",
       " 'files/Keppel/KLL_AR2004.pdf',\n",
       " 'files/Keppel/20170804%20Data%20Centre%20Asset%20Management%20Analyst%20%5BKeppel%20Capital%5D.pdf',\n",
       " 'files/Keppel/US%20syllabus%202015.pdf',\n",
       " 'files/Keppel/OSHA_shipyard_industry.pdf',\n",
       " 'files/Keppel/AOD_Pareto_Conference_07062011.pdf',\n",
       " 'files/Keppel/list-of-workplace-fatalities.pdf',\n",
       " 'files/Keppel/JD_KDCREIT%20-%20Asset%20Mgt_Analyst_2017.pdf']"
      ]
     },
     "execution_count": 5,
     "metadata": {},
     "output_type": "execute_result"
    }
   ],
   "source": [
    "keppels_files"
   ]
  },
  {
   "cell_type": "code",
   "execution_count": 4,
   "metadata": {},
=======
   "execution_count": 31,
   "metadata": {
    "scrolled": false
   },
>>>>>>> f00f855e433ca8280832a6f96cf433f9a8807039
   "outputs": [
    {
     "name": "stdout",
     "output_type": "stream",
     "text": [
<<<<<<< HEAD
      "files/Keppel/KLL_AR2002a.pdf\n"
=======
      "JD_KDCREIT%20-%20Asset%20Mgt_Analyst_2017.pdf\n",
      "4292\n",
      "5f4c7c69049c32670176932fd1d305271372e912.pdf\n",
      "37464\n",
      "20100319_214216_BN4_F6859A6425BC8427482576EB00331260.1.pdf\n",
      "8692\n",
      "businessassociatelist--1-.xlsx\n"
>>>>>>> f00f855e433ca8280832a6f96cf433f9a8807039
     ]
    },
    {
     "name": "stderr",
     "output_type": "stream",
     "text": [
      "PdfReadWarning: Xref table not zero-indexed. ID numbers for objects will be corrected. [pdf.py:1736]\n"
     ]
    },
    {
<<<<<<< HEAD
     "ename": "KeyboardInterrupt",
     "evalue": "",
     "output_type": "error",
     "traceback": [
      "\u001b[0;31m---------------------------------------------------------------------------\u001b[0m",
      "\u001b[0;31mKeyboardInterrupt\u001b[0m                         Traceback (most recent call last)",
      "\u001b[0;32m<ipython-input-4-4c69f6eabc0f>\u001b[0m in \u001b[0;36m<module>\u001b[0;34m()\u001b[0m\n\u001b[1;32m      3\u001b[0m     \u001b[0;31m#The whole pipeline for that file goes here\u001b[0m\u001b[0;34m\u001b[0m\u001b[0;34m\u001b[0m\u001b[0m\n\u001b[1;32m      4\u001b[0m     \u001b[0mtext\u001b[0m \u001b[0;34m=\u001b[0m \u001b[0mextract_text\u001b[0m\u001b[0;34m.\u001b[0m\u001b[0mapply\u001b[0m\u001b[0;34m(\u001b[0m\u001b[0mfile\u001b[0m\u001b[0;34m)\u001b[0m\u001b[0;34m\u001b[0m\u001b[0m\n\u001b[0;32m----> 5\u001b[0;31m     \u001b[0mimportant_sents\u001b[0m \u001b[0;34m=\u001b[0m \u001b[0mtext_summarization\u001b[0m\u001b[0;34m.\u001b[0m\u001b[0mapply\u001b[0m\u001b[0;34m(\u001b[0m\u001b[0mtext\u001b[0m\u001b[0;34m)\u001b[0m\u001b[0;34m\u001b[0m\u001b[0m\n\u001b[0m\u001b[1;32m      6\u001b[0m     \u001b[0;31m#From here you can use your sentiment analysis code to find the sentiment over each important sentence\u001b[0m\u001b[0;34m\u001b[0m\u001b[0;34m\u001b[0m\u001b[0m\n\u001b[1;32m      7\u001b[0m     \u001b[0;31m#We then average the sentement to find the overall sentiment for that file.\u001b[0m\u001b[0;34m\u001b[0m\u001b[0;34m\u001b[0m\u001b[0m\n",
      "\u001b[0;32m~/Documents/ML experiment/Dathena Kaggle/text_summarization.py\u001b[0m in \u001b[0;36mapply\u001b[0;34m(text)\u001b[0m\n\u001b[1;32m      4\u001b[0m     \u001b[0;34m\"\"\" Return: the imortant sentence of the text \"\"\"\u001b[0m\u001b[0;34m\u001b[0m\u001b[0m\n\u001b[1;32m      5\u001b[0m     \u001b[0msents\u001b[0m \u001b[0;34m=\u001b[0m \u001b[0msent_tokenize\u001b[0m\u001b[0;34m(\u001b[0m\u001b[0mtext\u001b[0m\u001b[0;34m)\u001b[0m\u001b[0;34m\u001b[0m\u001b[0m\n\u001b[0;32m----> 6\u001b[0;31m     \u001b[0minter_sent\u001b[0m \u001b[0;34m=\u001b[0m \u001b[0;34m[\u001b[0m\u001b[0msent\u001b[0m \u001b[0;32mfor\u001b[0m \u001b[0msent\u001b[0m \u001b[0;32min\u001b[0m \u001b[0msents\u001b[0m \u001b[0;32mif\u001b[0m \u001b[0minteresting_sent\u001b[0m\u001b[0;34m(\u001b[0m\u001b[0msent\u001b[0m\u001b[0;34m)\u001b[0m\u001b[0;34m]\u001b[0m\u001b[0;34m\u001b[0m\u001b[0m\n\u001b[0m\u001b[1;32m      7\u001b[0m     \u001b[0;32mreturn\u001b[0m \u001b[0minter_sent\u001b[0m\u001b[0;34m\u001b[0m\u001b[0m\n\u001b[1;32m      8\u001b[0m \u001b[0;34m\u001b[0m\u001b[0m\n",
      "\u001b[0;32m~/Documents/ML experiment/Dathena Kaggle/text_summarization.py\u001b[0m in \u001b[0;36m<listcomp>\u001b[0;34m(.0)\u001b[0m\n\u001b[1;32m      4\u001b[0m     \u001b[0;34m\"\"\" Return: the imortant sentence of the text \"\"\"\u001b[0m\u001b[0;34m\u001b[0m\u001b[0m\n\u001b[1;32m      5\u001b[0m     \u001b[0msents\u001b[0m \u001b[0;34m=\u001b[0m \u001b[0msent_tokenize\u001b[0m\u001b[0;34m(\u001b[0m\u001b[0mtext\u001b[0m\u001b[0;34m)\u001b[0m\u001b[0;34m\u001b[0m\u001b[0m\n\u001b[0;32m----> 6\u001b[0;31m     \u001b[0minter_sent\u001b[0m \u001b[0;34m=\u001b[0m \u001b[0;34m[\u001b[0m\u001b[0msent\u001b[0m \u001b[0;32mfor\u001b[0m \u001b[0msent\u001b[0m \u001b[0;32min\u001b[0m \u001b[0msents\u001b[0m \u001b[0;32mif\u001b[0m \u001b[0minteresting_sent\u001b[0m\u001b[0;34m(\u001b[0m\u001b[0msent\u001b[0m\u001b[0;34m)\u001b[0m\u001b[0;34m]\u001b[0m\u001b[0;34m\u001b[0m\u001b[0m\n\u001b[0m\u001b[1;32m      7\u001b[0m     \u001b[0;32mreturn\u001b[0m \u001b[0minter_sent\u001b[0m\u001b[0;34m\u001b[0m\u001b[0m\n\u001b[1;32m      8\u001b[0m \u001b[0;34m\u001b[0m\u001b[0m\n",
      "\u001b[0;32m~/Documents/ML experiment/Dathena Kaggle/text_summarization.py\u001b[0m in \u001b[0;36minteresting_sent\u001b[0;34m(sent)\u001b[0m\n\u001b[1;32m      9\u001b[0m \u001b[0;34m\u001b[0m\u001b[0m\n\u001b[1;32m     10\u001b[0m \u001b[0;32mdef\u001b[0m \u001b[0minteresting_sent\u001b[0m\u001b[0;34m(\u001b[0m\u001b[0msent\u001b[0m\u001b[0;34m)\u001b[0m\u001b[0;34m:\u001b[0m\u001b[0;34m\u001b[0m\u001b[0m\n\u001b[0;32m---> 11\u001b[0;31m     \u001b[0mNER\u001b[0m \u001b[0;34m=\u001b[0m \u001b[0mne_chunk\u001b[0m\u001b[0;34m(\u001b[0m\u001b[0mpos_tag\u001b[0m\u001b[0;34m(\u001b[0m\u001b[0mword_tokenize\u001b[0m\u001b[0;34m(\u001b[0m\u001b[0msent\u001b[0m\u001b[0;34m)\u001b[0m\u001b[0;34m)\u001b[0m\u001b[0;34m)\u001b[0m\u001b[0;34m\u001b[0m\u001b[0m\n\u001b[0m\u001b[1;32m     12\u001b[0m \u001b[0;34m\u001b[0m\u001b[0m\n\u001b[1;32m     13\u001b[0m     \u001b[0;32mreturn\u001b[0m \u001b[0;34m'keppel'\u001b[0m \u001b[0;32min\u001b[0m \u001b[0msent\u001b[0m\u001b[0;34m.\u001b[0m\u001b[0mlower\u001b[0m\u001b[0;34m(\u001b[0m\u001b[0;34m)\u001b[0m \u001b[0;32mor\u001b[0m \u001b[0;34m'prudential'\u001b[0m \u001b[0;32min\u001b[0m \u001b[0msent\u001b[0m\u001b[0;34m.\u001b[0m\u001b[0mlower\u001b[0m\u001b[0;34m(\u001b[0m\u001b[0;34m)\u001b[0m\u001b[0;34m\u001b[0m\u001b[0m\n",
      "\u001b[0;32m~/anaconda3/lib/python3.6/site-packages/nltk/chunk/__init__.py\u001b[0m in \u001b[0;36mne_chunk\u001b[0;34m(tagged_tokens, binary)\u001b[0m\n\u001b[1;32m    175\u001b[0m         \u001b[0mchunker_pickle\u001b[0m \u001b[0;34m=\u001b[0m \u001b[0m_MULTICLASS_NE_CHUNKER\u001b[0m\u001b[0;34m\u001b[0m\u001b[0m\n\u001b[1;32m    176\u001b[0m     \u001b[0mchunker\u001b[0m \u001b[0;34m=\u001b[0m \u001b[0mload\u001b[0m\u001b[0;34m(\u001b[0m\u001b[0mchunker_pickle\u001b[0m\u001b[0;34m)\u001b[0m\u001b[0;34m\u001b[0m\u001b[0m\n\u001b[0;32m--> 177\u001b[0;31m     \u001b[0;32mreturn\u001b[0m \u001b[0mchunker\u001b[0m\u001b[0;34m.\u001b[0m\u001b[0mparse\u001b[0m\u001b[0;34m(\u001b[0m\u001b[0mtagged_tokens\u001b[0m\u001b[0;34m)\u001b[0m\u001b[0;34m\u001b[0m\u001b[0m\n\u001b[0m\u001b[1;32m    178\u001b[0m \u001b[0;34m\u001b[0m\u001b[0m\n\u001b[1;32m    179\u001b[0m \u001b[0;32mdef\u001b[0m \u001b[0mne_chunk_sents\u001b[0m\u001b[0;34m(\u001b[0m\u001b[0mtagged_sentences\u001b[0m\u001b[0;34m,\u001b[0m \u001b[0mbinary\u001b[0m\u001b[0;34m=\u001b[0m\u001b[0;32mFalse\u001b[0m\u001b[0;34m)\u001b[0m\u001b[0;34m:\u001b[0m\u001b[0;34m\u001b[0m\u001b[0m\n",
      "\u001b[0;32m~/anaconda3/lib/python3.6/site-packages/nltk/chunk/named_entity.py\u001b[0m in \u001b[0;36mparse\u001b[0;34m(self, tokens)\u001b[0m\n\u001b[1;32m    120\u001b[0m         \u001b[0mEach\u001b[0m \u001b[0mtoken\u001b[0m \u001b[0mshould\u001b[0m \u001b[0mbe\u001b[0m \u001b[0ma\u001b[0m \u001b[0mpos\u001b[0m\u001b[0;34m-\u001b[0m\u001b[0mtagged\u001b[0m \u001b[0mword\u001b[0m\u001b[0;34m\u001b[0m\u001b[0m\n\u001b[1;32m    121\u001b[0m         \"\"\"\n\u001b[0;32m--> 122\u001b[0;31m         \u001b[0mtagged\u001b[0m \u001b[0;34m=\u001b[0m \u001b[0mself\u001b[0m\u001b[0;34m.\u001b[0m\u001b[0m_tagger\u001b[0m\u001b[0;34m.\u001b[0m\u001b[0mtag\u001b[0m\u001b[0;34m(\u001b[0m\u001b[0mtokens\u001b[0m\u001b[0;34m)\u001b[0m\u001b[0;34m\u001b[0m\u001b[0m\n\u001b[0m\u001b[1;32m    123\u001b[0m         \u001b[0mtree\u001b[0m \u001b[0;34m=\u001b[0m \u001b[0mself\u001b[0m\u001b[0;34m.\u001b[0m\u001b[0m_tagged_to_parse\u001b[0m\u001b[0;34m(\u001b[0m\u001b[0mtagged\u001b[0m\u001b[0;34m)\u001b[0m\u001b[0;34m\u001b[0m\u001b[0m\n\u001b[1;32m    124\u001b[0m         \u001b[0;32mreturn\u001b[0m \u001b[0mtree\u001b[0m\u001b[0;34m\u001b[0m\u001b[0m\n",
      "\u001b[0;32m~/anaconda3/lib/python3.6/site-packages/nltk/tag/sequential.py\u001b[0m in \u001b[0;36mtag\u001b[0;34m(self, tokens)\u001b[0m\n\u001b[1;32m     61\u001b[0m         \u001b[0mtags\u001b[0m \u001b[0;34m=\u001b[0m \u001b[0;34m[\u001b[0m\u001b[0;34m]\u001b[0m\u001b[0;34m\u001b[0m\u001b[0m\n\u001b[1;32m     62\u001b[0m         \u001b[0;32mfor\u001b[0m \u001b[0mi\u001b[0m \u001b[0;32min\u001b[0m \u001b[0mrange\u001b[0m\u001b[0;34m(\u001b[0m\u001b[0mlen\u001b[0m\u001b[0;34m(\u001b[0m\u001b[0mtokens\u001b[0m\u001b[0;34m)\u001b[0m\u001b[0;34m)\u001b[0m\u001b[0;34m:\u001b[0m\u001b[0;34m\u001b[0m\u001b[0m\n\u001b[0;32m---> 63\u001b[0;31m             \u001b[0mtags\u001b[0m\u001b[0;34m.\u001b[0m\u001b[0mappend\u001b[0m\u001b[0;34m(\u001b[0m\u001b[0mself\u001b[0m\u001b[0;34m.\u001b[0m\u001b[0mtag_one\u001b[0m\u001b[0;34m(\u001b[0m\u001b[0mtokens\u001b[0m\u001b[0;34m,\u001b[0m \u001b[0mi\u001b[0m\u001b[0;34m,\u001b[0m \u001b[0mtags\u001b[0m\u001b[0;34m)\u001b[0m\u001b[0;34m)\u001b[0m\u001b[0;34m\u001b[0m\u001b[0m\n\u001b[0m\u001b[1;32m     64\u001b[0m         \u001b[0;32mreturn\u001b[0m \u001b[0mlist\u001b[0m\u001b[0;34m(\u001b[0m\u001b[0mzip\u001b[0m\u001b[0;34m(\u001b[0m\u001b[0mtokens\u001b[0m\u001b[0;34m,\u001b[0m \u001b[0mtags\u001b[0m\u001b[0;34m)\u001b[0m\u001b[0;34m)\u001b[0m\u001b[0;34m\u001b[0m\u001b[0m\n\u001b[1;32m     65\u001b[0m \u001b[0;34m\u001b[0m\u001b[0m\n",
      "\u001b[0;32m~/anaconda3/lib/python3.6/site-packages/nltk/tag/sequential.py\u001b[0m in \u001b[0;36mtag_one\u001b[0;34m(self, tokens, index, history)\u001b[0m\n\u001b[1;32m     81\u001b[0m         \u001b[0mtag\u001b[0m \u001b[0;34m=\u001b[0m \u001b[0;32mNone\u001b[0m\u001b[0;34m\u001b[0m\u001b[0m\n\u001b[1;32m     82\u001b[0m         \u001b[0;32mfor\u001b[0m \u001b[0mtagger\u001b[0m \u001b[0;32min\u001b[0m \u001b[0mself\u001b[0m\u001b[0;34m.\u001b[0m\u001b[0m_taggers\u001b[0m\u001b[0;34m:\u001b[0m\u001b[0;34m\u001b[0m\u001b[0m\n\u001b[0;32m---> 83\u001b[0;31m             \u001b[0mtag\u001b[0m \u001b[0;34m=\u001b[0m \u001b[0mtagger\u001b[0m\u001b[0;34m.\u001b[0m\u001b[0mchoose_tag\u001b[0m\u001b[0;34m(\u001b[0m\u001b[0mtokens\u001b[0m\u001b[0;34m,\u001b[0m \u001b[0mindex\u001b[0m\u001b[0;34m,\u001b[0m \u001b[0mhistory\u001b[0m\u001b[0;34m)\u001b[0m\u001b[0;34m\u001b[0m\u001b[0m\n\u001b[0m\u001b[1;32m     84\u001b[0m             \u001b[0;32mif\u001b[0m \u001b[0mtag\u001b[0m \u001b[0;32mis\u001b[0m \u001b[0;32mnot\u001b[0m \u001b[0;32mNone\u001b[0m\u001b[0;34m:\u001b[0m\u001b[0;34m\u001b[0m\u001b[0m\n\u001b[1;32m     85\u001b[0m                 \u001b[0;32mbreak\u001b[0m\u001b[0;34m\u001b[0m\u001b[0m\n",
      "\u001b[0;32m~/anaconda3/lib/python3.6/site-packages/nltk/tag/sequential.py\u001b[0m in \u001b[0;36mchoose_tag\u001b[0;34m(self, tokens, index, history)\u001b[0m\n\u001b[1;32m    636\u001b[0m         \u001b[0;31m# higher than that cutoff first; otherwise, return None.\u001b[0m\u001b[0;34m\u001b[0m\u001b[0;34m\u001b[0m\u001b[0m\n\u001b[1;32m    637\u001b[0m         \u001b[0;32mif\u001b[0m \u001b[0mself\u001b[0m\u001b[0;34m.\u001b[0m\u001b[0m_cutoff_prob\u001b[0m \u001b[0;32mis\u001b[0m \u001b[0;32mNone\u001b[0m\u001b[0;34m:\u001b[0m\u001b[0;34m\u001b[0m\u001b[0m\n\u001b[0;32m--> 638\u001b[0;31m             \u001b[0;32mreturn\u001b[0m \u001b[0mself\u001b[0m\u001b[0;34m.\u001b[0m\u001b[0m_classifier\u001b[0m\u001b[0;34m.\u001b[0m\u001b[0mclassify\u001b[0m\u001b[0;34m(\u001b[0m\u001b[0mfeatureset\u001b[0m\u001b[0;34m)\u001b[0m\u001b[0;34m\u001b[0m\u001b[0m\n\u001b[0m\u001b[1;32m    639\u001b[0m \u001b[0;34m\u001b[0m\u001b[0m\n\u001b[1;32m    640\u001b[0m         \u001b[0mpdist\u001b[0m \u001b[0;34m=\u001b[0m \u001b[0mself\u001b[0m\u001b[0;34m.\u001b[0m\u001b[0m_classifier\u001b[0m\u001b[0;34m.\u001b[0m\u001b[0mprob_classify\u001b[0m\u001b[0;34m(\u001b[0m\u001b[0mfeatureset\u001b[0m\u001b[0;34m)\u001b[0m\u001b[0;34m\u001b[0m\u001b[0m\n",
      "\u001b[0;32m~/anaconda3/lib/python3.6/site-packages/nltk/classify/maxent.py\u001b[0m in \u001b[0;36mclassify\u001b[0;34m(self, featureset)\u001b[0m\n\u001b[1;32m    144\u001b[0m \u001b[0;34m\u001b[0m\u001b[0m\n\u001b[1;32m    145\u001b[0m     \u001b[0;32mdef\u001b[0m \u001b[0mclassify\u001b[0m\u001b[0;34m(\u001b[0m\u001b[0mself\u001b[0m\u001b[0;34m,\u001b[0m \u001b[0mfeatureset\u001b[0m\u001b[0;34m)\u001b[0m\u001b[0;34m:\u001b[0m\u001b[0;34m\u001b[0m\u001b[0m\n\u001b[0;32m--> 146\u001b[0;31m         \u001b[0;32mreturn\u001b[0m \u001b[0mself\u001b[0m\u001b[0;34m.\u001b[0m\u001b[0mprob_classify\u001b[0m\u001b[0;34m(\u001b[0m\u001b[0mfeatureset\u001b[0m\u001b[0;34m)\u001b[0m\u001b[0;34m.\u001b[0m\u001b[0mmax\u001b[0m\u001b[0;34m(\u001b[0m\u001b[0;34m)\u001b[0m\u001b[0;34m\u001b[0m\u001b[0m\n\u001b[0m\u001b[1;32m    147\u001b[0m \u001b[0;34m\u001b[0m\u001b[0m\n\u001b[1;32m    148\u001b[0m     \u001b[0;32mdef\u001b[0m \u001b[0mprob_classify\u001b[0m\u001b[0;34m(\u001b[0m\u001b[0mself\u001b[0m\u001b[0;34m,\u001b[0m \u001b[0mfeatureset\u001b[0m\u001b[0;34m)\u001b[0m\u001b[0;34m:\u001b[0m\u001b[0;34m\u001b[0m\u001b[0m\n",
      "\u001b[0;32m~/anaconda3/lib/python3.6/site-packages/nltk/classify/maxent.py\u001b[0m in \u001b[0;36mprob_classify\u001b[0;34m(self, featureset)\u001b[0m\n\u001b[1;32m    154\u001b[0m                 \u001b[0mtotal\u001b[0m \u001b[0;34m=\u001b[0m \u001b[0;36m0.0\u001b[0m\u001b[0;34m\u001b[0m\u001b[0m\n\u001b[1;32m    155\u001b[0m                 \u001b[0;32mfor\u001b[0m \u001b[0;34m(\u001b[0m\u001b[0mf_id\u001b[0m\u001b[0;34m,\u001b[0m \u001b[0mf_val\u001b[0m\u001b[0;34m)\u001b[0m \u001b[0;32min\u001b[0m \u001b[0mfeature_vector\u001b[0m\u001b[0;34m:\u001b[0m\u001b[0;34m\u001b[0m\u001b[0m\n\u001b[0;32m--> 156\u001b[0;31m                     \u001b[0mtotal\u001b[0m \u001b[0;34m+=\u001b[0m \u001b[0mself\u001b[0m\u001b[0;34m.\u001b[0m\u001b[0m_weights\u001b[0m\u001b[0;34m[\u001b[0m\u001b[0mf_id\u001b[0m\u001b[0;34m]\u001b[0m \u001b[0;34m*\u001b[0m \u001b[0mf_val\u001b[0m\u001b[0;34m\u001b[0m\u001b[0m\n\u001b[0m\u001b[1;32m    157\u001b[0m                 \u001b[0mprob_dict\u001b[0m\u001b[0;34m[\u001b[0m\u001b[0mlabel\u001b[0m\u001b[0;34m]\u001b[0m \u001b[0;34m=\u001b[0m \u001b[0mtotal\u001b[0m\u001b[0;34m\u001b[0m\u001b[0m\n\u001b[1;32m    158\u001b[0m \u001b[0;34m\u001b[0m\u001b[0m\n",
      "\u001b[0;31mKeyboardInterrupt\u001b[0m: "
=======
     "name": "stdout",
     "output_type": "stream",
     "text": [
      "Could not open Excel\n",
      "0\n",
      "WSHA2011%20Winners_8%20Aug.pdf\n",
      "11859\n",
      "sin63964.doc\n",
      "91448\n",
      "KOMTechnology%20StrategyJuly03v3.pdf\n",
      "15086\n",
      "Keppel%20REIT_AR2016.pdf\n",
      "503282\n",
      "pre_13sep2010_n2.pdf\n",
      "9027\n",
      "Dec06.xls\n",
      "76360\n",
      "04_April_2016.pdf\n",
      "114337\n",
      "bmap_text_8.doc\n",
      "148112\n",
      "KCL_AR2014_Operating_Financial_Review.pdf\n",
      "109207\n",
      "02_February_2016.pdf\n",
      "72242\n",
      "nfholdings_1721961_0917.xlsx\n",
      "44420\n",
      "standcontributorspre1999.xls\n",
      "328134\n",
      "KLL_SR2011.pdf\n",
      "347301\n",
      "grants.xls\n",
      "4201439\n",
      "inSYNC_ecopy.pdf\n",
      "33585\n",
      "Dr%20Rob%20Kelly%20-%20Keppel%20Fels%20Loadout%20Speech.doc\n",
      "4121\n",
      "Ads.pdf\n",
      "18325\n",
      "Handout-oct14-final-version-17-10-2014.docx\n",
      "47073\n",
      "REP-1437137611.pdf\n",
      "218782\n",
      "PALS-Bar-Ops-Pilipinas-Must-Read-Cases-CIVIL-2015.docx\n",
      "243047\n",
      "om10_mar%20april%202010.pdf\n",
      "76200\n",
      "2016%20jan-february%20issue.pdf\n",
      "97246\n",
      "Allianz-Hongkou-SOHO_EN.pdf\n",
      "8202\n",
      "53_11338.pdf\n",
      "24768\n",
      "nfa_list.xls\n",
      "305916\n",
      "STAT%20379s08%20study%20guide.doc\n",
      "29743\n",
      "Classifying-Serial-Sexual-Murder-Murderers-An-Attempt-to-Validate-Keppel-and-Walters-1999-Model.pdf\n",
      "65008\n",
      "TPG500%20Loadout%20press%20release%20July%202004.doc\n",
      "3679\n",
      "Submission+to+the+Human+Rights+and+Equal+Opportunity+Commission.doc\n",
      "30138\n",
      "BDO-LTNCTD-Due-2020-Final-OC.pdf\n",
      "649011\n",
      "intergraph_marineeditioninsight.pdf\n",
      "85783\n",
      "CYP%20Meeting%20May%202017docx.docx\n",
      "15565\n",
      "Rule_Ann-Kiss_Me_Kill_Me.doc\n",
      "637341\n",
      "KCL_AR2015_Keppel_Group_Boards_of_Directors.pdf\n",
      "5342\n",
      "CG2011.pdf\n",
      "63353\n",
      "B4_2_TUAN-Loh-Ah_Keppel-Seghers-Engineering-Singapore.pdf\n",
      "8446\n",
      "KCL.pdf\n",
      "278344\n",
      "River-Oaks-IL-14-_-CHR-Library-Books1.xlsx\n",
      "233652\n",
      "How%20to%20complete%20the%20PIF%20guidance%20draft%20v0.5.doc\n",
      "60399\n",
      "April.pdf\n",
      "100486\n",
      "Baku-inauguration-panels.pdf\n",
      "6445\n",
      "2015%20nov-december%20issue.pdf\n",
      "92297\n",
      "kepinfratrust-dbs-170417.pdf\n",
      "36212\n",
      "Keppel%20Shipyard%20Brochure.pdf\n",
      "8262\n",
      "299295322.pdf\n",
      "104748\n",
      "SUMATRA_INTERNEES.doc\n",
      "200658\n",
      "Singapore%20Rig%20Builders%20-%20Keppel,%20SembMarine%20-%20In%20the%20midst%20of%20a%20perfect%20storm%20-%20JPM%209%20Jan.pdf\n",
      "69\n",
      "consumersovereigntyantitrustlaw1997.doc\n",
      "149931\n",
      "OSHA_shipyard_industry.pdf\n",
      "547630\n",
      "Time-s-Excel-Tanker-incidents.xls\n",
      "853527\n",
      "otc-history-sample.xls\n",
      "1037252\n",
      "US%20syllabus%202015.pdf\n",
      "13807\n",
      "singapore.pdf\n"
     ]
    },
    {
     "ename": "TypeError",
     "evalue": "ord() expected string of length 1, but int found",
     "output_type": "error",
     "traceback": [
      "\u001b[1;31m---------------------------------------------------------------------------\u001b[0m",
      "\u001b[1;31mTypeError\u001b[0m                                 Traceback (most recent call last)",
      "\u001b[1;32m<ipython-input-31-c525dc715799>\u001b[0m in \u001b[0;36m<module>\u001b[1;34m()\u001b[0m\n\u001b[0;32m      3\u001b[0m     \u001b[0mpath\u001b[0m \u001b[1;33m=\u001b[0m \u001b[1;34m\"files/\"\u001b[0m\u001b[1;33m+\u001b[0m\u001b[0mfile\u001b[0m\u001b[1;33m[\u001b[0m\u001b[1;36m2\u001b[0m\u001b[1;33m]\u001b[0m\u001b[1;33m+\u001b[0m\u001b[1;34m\"/\"\u001b[0m\u001b[1;33m+\u001b[0m\u001b[0mfile\u001b[0m\u001b[1;33m[\u001b[0m\u001b[1;36m1\u001b[0m\u001b[1;33m]\u001b[0m\u001b[1;33m\u001b[0m\u001b[0m\n\u001b[0;32m      4\u001b[0m     \u001b[1;31m#The whole pipeline for that file goes here\u001b[0m\u001b[1;33m\u001b[0m\u001b[1;33m\u001b[0m\u001b[0m\n\u001b[1;32m----> 5\u001b[1;33m     \u001b[0mtext\u001b[0m \u001b[1;33m=\u001b[0m \u001b[0mextract_text\u001b[0m\u001b[1;33m.\u001b[0m\u001b[0mapply\u001b[0m\u001b[1;33m(\u001b[0m\u001b[0mpath\u001b[0m\u001b[1;33m)\u001b[0m\u001b[1;33m\u001b[0m\u001b[0m\n\u001b[0m\u001b[0;32m      6\u001b[0m     \u001b[0mprint\u001b[0m\u001b[1;33m(\u001b[0m\u001b[0mlen\u001b[0m\u001b[1;33m(\u001b[0m\u001b[0mtext\u001b[0m\u001b[1;33m)\u001b[0m\u001b[1;33m)\u001b[0m\u001b[1;33m\u001b[0m\u001b[0m\n\u001b[0;32m      7\u001b[0m     \u001b[1;31m#important_sents = text_summarization.apply(text)\u001b[0m\u001b[1;33m\u001b[0m\u001b[1;33m\u001b[0m\u001b[0m\n",
      "\u001b[1;32m~\\Documents\\KaggleDathena\\extract_text.py\u001b[0m in \u001b[0;36mapply\u001b[1;34m(file_path)\u001b[0m\n\u001b[0;32m      9\u001b[0m             \u001b[1;32mreturn\u001b[0m \u001b[0mexctract_excel\u001b[0m\u001b[1;33m(\u001b[0m\u001b[0mfile_path\u001b[0m\u001b[1;33m)\u001b[0m\u001b[1;33m\u001b[0m\u001b[0m\n\u001b[0;32m     10\u001b[0m     \u001b[1;32mif\u001b[0m \u001b[0mfile_type\u001b[0m \u001b[1;33m==\u001b[0m \u001b[1;34m'PDF'\u001b[0m\u001b[1;33m:\u001b[0m\u001b[1;33m\u001b[0m\u001b[0m\n\u001b[1;32m---> 11\u001b[1;33m             \u001b[1;32mreturn\u001b[0m \u001b[0mexctract_pdf\u001b[0m\u001b[1;33m(\u001b[0m\u001b[0mfile_path\u001b[0m\u001b[1;33m)\u001b[0m\u001b[1;33m\u001b[0m\u001b[0m\n\u001b[0m\u001b[0;32m     12\u001b[0m     \u001b[1;32mif\u001b[0m \u001b[0mfile_type\u001b[0m \u001b[1;33m==\u001b[0m \u001b[1;34m'WORD'\u001b[0m\u001b[1;33m:\u001b[0m\u001b[1;33m\u001b[0m\u001b[0m\n\u001b[0;32m     13\u001b[0m             \u001b[1;32mreturn\u001b[0m \u001b[0mexctract_word\u001b[0m\u001b[1;33m(\u001b[0m\u001b[0mfile_path\u001b[0m\u001b[1;33m)\u001b[0m\u001b[1;33m\u001b[0m\u001b[0m\n",
      "\u001b[1;32m~\\Documents\\KaggleDathena\\extract_text.py\u001b[0m in \u001b[0;36mexctract_pdf\u001b[1;34m(path)\u001b[0m\n\u001b[0;32m     56\u001b[0m         \u001b[1;32mfor\u001b[0m \u001b[0mi\u001b[0m \u001b[1;32min\u001b[0m \u001b[0mrange\u001b[0m\u001b[1;33m(\u001b[0m\u001b[0mpdf\u001b[0m\u001b[1;33m.\u001b[0m\u001b[0mgetNumPages\u001b[0m\u001b[1;33m(\u001b[0m\u001b[1;33m)\u001b[0m\u001b[1;33m)\u001b[0m\u001b[1;33m:\u001b[0m\u001b[1;33m\u001b[0m\u001b[0m\n\u001b[0;32m     57\u001b[0m             \u001b[0mpage\u001b[0m \u001b[1;33m=\u001b[0m \u001b[0mpdf\u001b[0m\u001b[1;33m.\u001b[0m\u001b[0mgetPage\u001b[0m\u001b[1;33m(\u001b[0m\u001b[0mi\u001b[0m\u001b[1;33m)\u001b[0m\u001b[1;33m\u001b[0m\u001b[0m\n\u001b[1;32m---> 58\u001b[1;33m             \u001b[0mtext\u001b[0m\u001b[1;33m+=\u001b[0m \u001b[1;34m' '\u001b[0m \u001b[1;33m+\u001b[0m \u001b[0mpage\u001b[0m\u001b[1;33m.\u001b[0m\u001b[0mextractText\u001b[0m\u001b[1;33m(\u001b[0m\u001b[1;33m)\u001b[0m\u001b[1;33m\u001b[0m\u001b[0m\n\u001b[0m\u001b[0;32m     59\u001b[0m     \u001b[1;32melse\u001b[0m\u001b[1;33m:\u001b[0m\u001b[1;33m\u001b[0m\u001b[0m\n\u001b[0;32m     60\u001b[0m         \u001b[0mprint\u001b[0m\u001b[1;33m(\u001b[0m\u001b[1;34m\"Could not parse the PDF, \"\u001b[0m\u001b[1;33m,\u001b[0m \u001b[0mpath\u001b[0m\u001b[1;33m)\u001b[0m\u001b[1;33m\u001b[0m\u001b[0m\n",
      "\u001b[1;32m~\\Anaconda3\\lib\\site-packages\\PyPDF2\\pdf.py\u001b[0m in \u001b[0;36mextractText\u001b[1;34m(self)\u001b[0m\n\u001b[0;32m   2593\u001b[0m         \u001b[0mcontent\u001b[0m \u001b[1;33m=\u001b[0m \u001b[0mself\u001b[0m\u001b[1;33m[\u001b[0m\u001b[1;34m\"/Contents\"\u001b[0m\u001b[1;33m]\u001b[0m\u001b[1;33m.\u001b[0m\u001b[0mgetObject\u001b[0m\u001b[1;33m(\u001b[0m\u001b[1;33m)\u001b[0m\u001b[1;33m\u001b[0m\u001b[0m\n\u001b[0;32m   2594\u001b[0m         \u001b[1;32mif\u001b[0m \u001b[1;32mnot\u001b[0m \u001b[0misinstance\u001b[0m\u001b[1;33m(\u001b[0m\u001b[0mcontent\u001b[0m\u001b[1;33m,\u001b[0m \u001b[0mContentStream\u001b[0m\u001b[1;33m)\u001b[0m\u001b[1;33m:\u001b[0m\u001b[1;33m\u001b[0m\u001b[0m\n\u001b[1;32m-> 2595\u001b[1;33m             \u001b[0mcontent\u001b[0m \u001b[1;33m=\u001b[0m \u001b[0mContentStream\u001b[0m\u001b[1;33m(\u001b[0m\u001b[0mcontent\u001b[0m\u001b[1;33m,\u001b[0m \u001b[0mself\u001b[0m\u001b[1;33m.\u001b[0m\u001b[0mpdf\u001b[0m\u001b[1;33m)\u001b[0m\u001b[1;33m\u001b[0m\u001b[0m\n\u001b[0m\u001b[0;32m   2596\u001b[0m         \u001b[1;31m# Note: we check all strings are TextStringObjects.  ByteStringObjects\u001b[0m\u001b[1;33m\u001b[0m\u001b[1;33m\u001b[0m\u001b[0m\n\u001b[0;32m   2597\u001b[0m         \u001b[1;31m# are strings where the byte->string encoding was unknown, so adding\u001b[0m\u001b[1;33m\u001b[0m\u001b[1;33m\u001b[0m\u001b[0m\n",
      "\u001b[1;32m~\\Anaconda3\\lib\\site-packages\\PyPDF2\\pdf.py\u001b[0m in \u001b[0;36m__init__\u001b[1;34m(self, stream, pdf)\u001b[0m\n\u001b[0;32m   2668\u001b[0m             \u001b[0mdata\u001b[0m \u001b[1;33m=\u001b[0m \u001b[0mb_\u001b[0m\u001b[1;33m(\u001b[0m\u001b[1;34m\"\"\u001b[0m\u001b[1;33m)\u001b[0m\u001b[1;33m\u001b[0m\u001b[0m\n\u001b[0;32m   2669\u001b[0m             \u001b[1;32mfor\u001b[0m \u001b[0ms\u001b[0m \u001b[1;32min\u001b[0m \u001b[0mstream\u001b[0m\u001b[1;33m:\u001b[0m\u001b[1;33m\u001b[0m\u001b[0m\n\u001b[1;32m-> 2670\u001b[1;33m                 \u001b[0mdata\u001b[0m \u001b[1;33m+=\u001b[0m \u001b[0ms\u001b[0m\u001b[1;33m.\u001b[0m\u001b[0mgetObject\u001b[0m\u001b[1;33m(\u001b[0m\u001b[1;33m)\u001b[0m\u001b[1;33m.\u001b[0m\u001b[0mgetData\u001b[0m\u001b[1;33m(\u001b[0m\u001b[1;33m)\u001b[0m\u001b[1;33m\u001b[0m\u001b[0m\n\u001b[0m\u001b[0;32m   2671\u001b[0m             \u001b[0mstream\u001b[0m \u001b[1;33m=\u001b[0m \u001b[0mBytesIO\u001b[0m\u001b[1;33m(\u001b[0m\u001b[0mb_\u001b[0m\u001b[1;33m(\u001b[0m\u001b[0mdata\u001b[0m\u001b[1;33m)\u001b[0m\u001b[1;33m)\u001b[0m\u001b[1;33m\u001b[0m\u001b[0m\n\u001b[0;32m   2672\u001b[0m         \u001b[1;32melse\u001b[0m\u001b[1;33m:\u001b[0m\u001b[1;33m\u001b[0m\u001b[0m\n",
      "\u001b[1;32m~\\Anaconda3\\lib\\site-packages\\PyPDF2\\generic.py\u001b[0m in \u001b[0;36mgetData\u001b[1;34m(self)\u001b[0m\n\u001b[0;32m    839\u001b[0m             \u001b[0mdecoded\u001b[0m \u001b[1;33m=\u001b[0m \u001b[0mDecodedStreamObject\u001b[0m\u001b[1;33m(\u001b[0m\u001b[1;33m)\u001b[0m\u001b[1;33m\u001b[0m\u001b[0m\n\u001b[0;32m    840\u001b[0m \u001b[1;33m\u001b[0m\u001b[0m\n\u001b[1;32m--> 841\u001b[1;33m             \u001b[0mdecoded\u001b[0m\u001b[1;33m.\u001b[0m\u001b[0m_data\u001b[0m \u001b[1;33m=\u001b[0m \u001b[0mfilters\u001b[0m\u001b[1;33m.\u001b[0m\u001b[0mdecodeStreamData\u001b[0m\u001b[1;33m(\u001b[0m\u001b[0mself\u001b[0m\u001b[1;33m)\u001b[0m\u001b[1;33m\u001b[0m\u001b[0m\n\u001b[0m\u001b[0;32m    842\u001b[0m             \u001b[1;32mfor\u001b[0m \u001b[0mkey\u001b[0m\u001b[1;33m,\u001b[0m \u001b[0mvalue\u001b[0m \u001b[1;32min\u001b[0m \u001b[0mlist\u001b[0m\u001b[1;33m(\u001b[0m\u001b[0mself\u001b[0m\u001b[1;33m.\u001b[0m\u001b[0mitems\u001b[0m\u001b[1;33m(\u001b[0m\u001b[1;33m)\u001b[0m\u001b[1;33m)\u001b[0m\u001b[1;33m:\u001b[0m\u001b[1;33m\u001b[0m\u001b[0m\n\u001b[0;32m    843\u001b[0m                 \u001b[1;32mif\u001b[0m \u001b[1;32mnot\u001b[0m \u001b[0mkey\u001b[0m \u001b[1;32min\u001b[0m \u001b[1;33m(\u001b[0m\u001b[1;34m\"/Length\"\u001b[0m\u001b[1;33m,\u001b[0m \u001b[1;34m\"/Filter\"\u001b[0m\u001b[1;33m,\u001b[0m \u001b[1;34m\"/DecodeParms\"\u001b[0m\u001b[1;33m)\u001b[0m\u001b[1;33m:\u001b[0m\u001b[1;33m\u001b[0m\u001b[0m\n",
      "\u001b[1;32m~\\Anaconda3\\lib\\site-packages\\PyPDF2\\filters.py\u001b[0m in \u001b[0;36mdecodeStreamData\u001b[1;34m(stream)\u001b[0m\n\u001b[0;32m    348\u001b[0m                 \u001b[0mdata\u001b[0m \u001b[1;33m=\u001b[0m \u001b[0mASCIIHexDecode\u001b[0m\u001b[1;33m.\u001b[0m\u001b[0mdecode\u001b[0m\u001b[1;33m(\u001b[0m\u001b[0mdata\u001b[0m\u001b[1;33m)\u001b[0m\u001b[1;33m\u001b[0m\u001b[0m\n\u001b[0;32m    349\u001b[0m             \u001b[1;32melif\u001b[0m \u001b[0mfilterType\u001b[0m \u001b[1;33m==\u001b[0m \u001b[1;34m\"/LZWDecode\"\u001b[0m \u001b[1;32mor\u001b[0m \u001b[0mfilterType\u001b[0m \u001b[1;33m==\u001b[0m \u001b[1;34m\"/LZW\"\u001b[0m\u001b[1;33m:\u001b[0m\u001b[1;33m\u001b[0m\u001b[0m\n\u001b[1;32m--> 350\u001b[1;33m                 \u001b[0mdata\u001b[0m \u001b[1;33m=\u001b[0m \u001b[0mLZWDecode\u001b[0m\u001b[1;33m.\u001b[0m\u001b[0mdecode\u001b[0m\u001b[1;33m(\u001b[0m\u001b[0mdata\u001b[0m\u001b[1;33m,\u001b[0m \u001b[0mstream\u001b[0m\u001b[1;33m.\u001b[0m\u001b[0mget\u001b[0m\u001b[1;33m(\u001b[0m\u001b[1;34m\"/DecodeParms\"\u001b[0m\u001b[1;33m)\u001b[0m\u001b[1;33m)\u001b[0m\u001b[1;33m\u001b[0m\u001b[0m\n\u001b[0m\u001b[0;32m    351\u001b[0m             \u001b[1;32melif\u001b[0m \u001b[0mfilterType\u001b[0m \u001b[1;33m==\u001b[0m \u001b[1;34m\"/ASCII85Decode\"\u001b[0m \u001b[1;32mor\u001b[0m \u001b[0mfilterType\u001b[0m \u001b[1;33m==\u001b[0m \u001b[1;34m\"/A85\"\u001b[0m\u001b[1;33m:\u001b[0m\u001b[1;33m\u001b[0m\u001b[0m\n\u001b[0;32m    352\u001b[0m                 \u001b[0mdata\u001b[0m \u001b[1;33m=\u001b[0m \u001b[0mASCII85Decode\u001b[0m\u001b[1;33m.\u001b[0m\u001b[0mdecode\u001b[0m\u001b[1;33m(\u001b[0m\u001b[0mdata\u001b[0m\u001b[1;33m)\u001b[0m\u001b[1;33m\u001b[0m\u001b[0m\n",
      "\u001b[1;32m~\\Anaconda3\\lib\\site-packages\\PyPDF2\\filters.py\u001b[0m in \u001b[0;36mdecode\u001b[1;34m(data, decodeParams)\u001b[0m\n\u001b[0;32m    253\u001b[0m     \u001b[1;33m@\u001b[0m\u001b[0mstaticmethod\u001b[0m\u001b[1;33m\u001b[0m\u001b[0m\n\u001b[0;32m    254\u001b[0m     \u001b[1;32mdef\u001b[0m \u001b[0mdecode\u001b[0m\u001b[1;33m(\u001b[0m\u001b[0mdata\u001b[0m\u001b[1;33m,\u001b[0m\u001b[0mdecodeParams\u001b[0m\u001b[1;33m=\u001b[0m\u001b[1;32mNone\u001b[0m\u001b[1;33m)\u001b[0m\u001b[1;33m:\u001b[0m\u001b[1;33m\u001b[0m\u001b[0m\n\u001b[1;32m--> 255\u001b[1;33m         \u001b[1;32mreturn\u001b[0m \u001b[0mLZWDecode\u001b[0m\u001b[1;33m.\u001b[0m\u001b[0mdecoder\u001b[0m\u001b[1;33m(\u001b[0m\u001b[0mdata\u001b[0m\u001b[1;33m)\u001b[0m\u001b[1;33m.\u001b[0m\u001b[0mdecode\u001b[0m\u001b[1;33m(\u001b[0m\u001b[1;33m)\u001b[0m\u001b[1;33m\u001b[0m\u001b[0m\n\u001b[0m\u001b[0;32m    256\u001b[0m \u001b[1;33m\u001b[0m\u001b[0m\n\u001b[0;32m    257\u001b[0m \u001b[1;33m\u001b[0m\u001b[0m\n",
      "\u001b[1;32m~\\Anaconda3\\lib\\site-packages\\PyPDF2\\filters.py\u001b[0m in \u001b[0;36mdecode\u001b[1;34m(self)\u001b[0m\n\u001b[0;32m    226\u001b[0m             \u001b[1;32mwhile\u001b[0m \u001b[1;32mTrue\u001b[0m\u001b[1;33m:\u001b[0m\u001b[1;33m\u001b[0m\u001b[0m\n\u001b[0;32m    227\u001b[0m                 \u001b[0mpW\u001b[0m \u001b[1;33m=\u001b[0m \u001b[0mcW\u001b[0m\u001b[1;33m;\u001b[0m\u001b[1;33m\u001b[0m\u001b[0m\n\u001b[1;32m--> 228\u001b[1;33m                 \u001b[0mcW\u001b[0m \u001b[1;33m=\u001b[0m \u001b[0mself\u001b[0m\u001b[1;33m.\u001b[0m\u001b[0mnextCode\u001b[0m\u001b[1;33m(\u001b[0m\u001b[1;33m)\u001b[0m\u001b[1;33m;\u001b[0m\u001b[1;33m\u001b[0m\u001b[0m\n\u001b[0m\u001b[0;32m    229\u001b[0m                 \u001b[1;32mif\u001b[0m \u001b[0mcW\u001b[0m \u001b[1;33m==\u001b[0m \u001b[1;33m-\u001b[0m\u001b[1;36m1\u001b[0m\u001b[1;33m:\u001b[0m\u001b[1;33m\u001b[0m\u001b[0m\n\u001b[0;32m    230\u001b[0m                     \u001b[1;32mraise\u001b[0m \u001b[0mPdfReadError\u001b[0m\u001b[1;33m(\u001b[0m\u001b[1;34m\"Missed the stop code in LZWDecode!\"\u001b[0m\u001b[1;33m)\u001b[0m\u001b[1;33m\u001b[0m\u001b[0m\n",
      "\u001b[1;32m~\\Anaconda3\\lib\\site-packages\\PyPDF2\\filters.py\u001b[0m in \u001b[0;36mnextCode\u001b[1;34m(self)\u001b[0m\n\u001b[0;32m    203\u001b[0m                 \u001b[1;32mif\u001b[0m \u001b[0mself\u001b[0m\u001b[1;33m.\u001b[0m\u001b[0mbytepos\u001b[0m \u001b[1;33m>=\u001b[0m \u001b[0mlen\u001b[0m\u001b[1;33m(\u001b[0m\u001b[0mself\u001b[0m\u001b[1;33m.\u001b[0m\u001b[0mdata\u001b[0m\u001b[1;33m)\u001b[0m\u001b[1;33m:\u001b[0m\u001b[1;33m\u001b[0m\u001b[0m\n\u001b[0;32m    204\u001b[0m                     \u001b[1;32mreturn\u001b[0m \u001b[1;33m-\u001b[0m\u001b[1;36m1\u001b[0m\u001b[1;33m\u001b[0m\u001b[0m\n\u001b[1;32m--> 205\u001b[1;33m                 \u001b[0mnextbits\u001b[0m\u001b[1;33m=\u001b[0m\u001b[0mord\u001b[0m\u001b[1;33m(\u001b[0m\u001b[0mself\u001b[0m\u001b[1;33m.\u001b[0m\u001b[0mdata\u001b[0m\u001b[1;33m[\u001b[0m\u001b[0mself\u001b[0m\u001b[1;33m.\u001b[0m\u001b[0mbytepos\u001b[0m\u001b[1;33m]\u001b[0m\u001b[1;33m)\u001b[0m\u001b[1;33m\u001b[0m\u001b[0m\n\u001b[0m\u001b[0;32m    206\u001b[0m                 \u001b[0mbitsfromhere\u001b[0m\u001b[1;33m=\u001b[0m\u001b[1;36m8\u001b[0m\u001b[1;33m-\u001b[0m\u001b[0mself\u001b[0m\u001b[1;33m.\u001b[0m\u001b[0mbitpos\u001b[0m\u001b[1;33m\u001b[0m\u001b[0m\n\u001b[0;32m    207\u001b[0m                 \u001b[1;32mif\u001b[0m \u001b[0mbitsfromhere\u001b[0m\u001b[1;33m>\u001b[0m\u001b[0mfillbits\u001b[0m\u001b[1;33m:\u001b[0m\u001b[1;33m\u001b[0m\u001b[0m\n",
      "\u001b[1;31mTypeError\u001b[0m: ord() expected string of length 1, but int found"
>>>>>>> f00f855e433ca8280832a6f96cf433f9a8807039
     ]
    }
   ],
   "source": [
    "for file in fileMap:\n",
    "    print(file[1])\n",
    "    path = \"files/\"+file[2]+\"/\"+file[1]\n",
    "    #The whole pipeline for that file goes here\n",
    "    text = extract_text.apply(path)\n",
    "    print(len(text))\n",
    "    #important_sents = text_summarization.apply(text)\n",
    "    #From here you can use your sentiment analysis code to find the sentiment over each important sentence\n",
    "    #We then average the sentement to find the overall sentiment for that file.\n",
    "    "
   ]
  },
  {
   "cell_type": "code",
   "execution_count": 1,
   "metadata": {},
   "outputs": [
    {
     "name": "stderr",
     "output_type": "stream",
     "text": [
      "/home/charles/anaconda3/lib/python3.6/site-packages/h5py/__init__.py:34: FutureWarning: Conversion of the second argument of issubdtype from `float` to `np.floating` is deprecated. In future, it will be treated as `np.float64 == np.dtype(float).type`.\n",
      "  from ._conv import register_converters as _register_converters\n",
      "Using TensorFlow backend.\n",
      "/home/charles/anaconda3/lib/python3.6/site-packages/requests/__init__.py:80: RequestsDependencyWarning: urllib3 (1.22) or chardet (2.3.0) doesn't match a supported version!\n",
      "  RequestsDependencyWarning)\n"
     ]
    }
   ],
   "source": [
    "import sentiment_analyzer"
   ]
  },
  {
   "cell_type": "code",
   "execution_count": 2,
   "metadata": {},
   "outputs": [
    {
     "ename": "NameError",
     "evalue": "name 'sentiment_analyzer' is not defined",
     "output_type": "error",
     "traceback": [
      "\u001b[0;31m---------------------------------------------------------------------------\u001b[0m",
      "\u001b[0;31mNameError\u001b[0m                                 Traceback (most recent call last)",
      "\u001b[0;32m<ipython-input-2-b98cd94e851b>\u001b[0m in \u001b[0;36m<module>\u001b[0;34m()\u001b[0m\n\u001b[0;32m----> 1\u001b[0;31m \u001b[0msentiment_analyzer\u001b[0m\u001b[0;34m.\u001b[0m\u001b[0mapply\u001b[0m\u001b[0;34m(\u001b[0m\u001b[0;34m[\u001b[0m\u001b[0;34m'I am ugly'\u001b[0m\u001b[0;34m,\u001b[0m \u001b[0;34m'success'\u001b[0m\u001b[0;34m]\u001b[0m\u001b[0;34m)\u001b[0m\u001b[0;34m\u001b[0m\u001b[0m\n\u001b[0m",
      "\u001b[0;31mNameError\u001b[0m: name 'sentiment_analyzer' is not defined"
     ]
    }
   ],
   "source": [
    "sentiment_analyzer.apply(['I am ugly', 'success'])"
   ]
  },
  {
   "cell_type": "code",
   "execution_count": 12,
   "metadata": {},
   "outputs": [
    {
     "data": {
      "text/plain": [
       "list"
      ]
     },
     "execution_count": 12,
     "metadata": {},
     "output_type": "execute_result"
    }
   ],
   "source": [
    "type([])"
   ]
  },
  {
   "cell_type": "code",
   "execution_count": 1,
   "metadata": {},
   "outputs": [
    {
     "name": "stderr",
     "output_type": "stream",
     "text": [
      "/home/charles/anaconda3/lib/python3.6/site-packages/h5py/__init__.py:34: FutureWarning: Conversion of the second argument of issubdtype from `float` to `np.floating` is deprecated. In future, it will be treated as `np.float64 == np.dtype(float).type`.\n",
      "  from ._conv import register_converters as _register_converters\n",
      "/home/charles/anaconda3/lib/python3.6/site-packages/requests/__init__.py:80: RequestsDependencyWarning: urllib3 (1.22) or chardet (2.3.0) doesn't match a supported version!\n",
      "  RequestsDependencyWarning)\n"
     ]
    },
    {
     "name": "stdout",
     "output_type": "stream",
     "text": [
      "[name: \"/device:CPU:0\"\n",
      "device_type: \"CPU\"\n",
      "memory_limit: 268435456\n",
      "locality {\n",
      "}\n",
      "incarnation: 13940807482040511310\n",
      ", name: \"/device:GPU:0\"\n",
      "device_type: \"GPU\"\n",
      "memory_limit: 1375993856\n",
      "locality {\n",
      "  bus_id: 1\n",
      "}\n",
      "incarnation: 821385839624310686\n",
      "physical_device_desc: \"device: 0, name: GeForce 940MX, pci bus id: 0000:02:00.0, compute capability: 5.0\"\n",
      "]\n"
     ]
    }
   ],
   "source": [
    "from tensorflow.python.client import device_lib\n",
    "print(device_lib.list_local_devices())"
   ]
  },
  {
   "cell_type": "code",
   "execution_count": 2,
   "metadata": {},
   "outputs": [
    {
     "data": {
      "text/plain": [
       "'1.6.0'"
      ]
     },
     "execution_count": 2,
     "metadata": {},
     "output_type": "execute_result"
    }
   ],
   "source": [
    "import tensorflow as tf\n",
    "tf.__version__"
   ]
  },
  {
   "cell_type": "code",
   "execution_count": null,
   "metadata": {
    "collapsed": true
   },
   "outputs": [],
   "source": []
  }
 ],
 "metadata": {
  "kernelspec": {
   "display_name": "Python 3",
   "language": "python",
   "name": "python3"
  },
  "language_info": {
   "codemirror_mode": {
    "name": "ipython",
    "version": 3
   },
   "file_extension": ".py",
   "mimetype": "text/x-python",
   "name": "python",
   "nbconvert_exporter": "python",
   "pygments_lexer": "ipython3",
   "version": "3.6.4"
  }
 },
 "nbformat": 4,
 "nbformat_minor": 2
}
