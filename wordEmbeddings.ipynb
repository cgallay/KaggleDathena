{
 "cells": [
  {
   "cell_type": "code",
   "execution_count": 4,
   "metadata": {},
   "outputs": [],
   "source": [
    "import keras\n",
    "import glob\n",
    "import extract_text\n",
    "import pickle\n",
    "import gensim\n",
    "from tqdm import tqdm_notebook as tqdm\n",
    "import util"
   ]
  },
  {
   "cell_type": "code",
   "execution_count": 2,
   "metadata": {
    "collapsed": true
   },
   "outputs": [],
   "source": [
    "#open the files\n",
    "all_files = glob.glob('files/*/*')"
   ]
  },
  {
   "cell_type": "code",
   "execution_count": 3,
   "metadata": {},
   "outputs": [
    {
     "data": {
      "application/vnd.jupyter.widget-view+json": {
       "model_id": "66ae0e66a3714e7b8c78e27d9197c018",
       "version_major": 2,
       "version_minor": 0
      },
      "text/plain": [
       "A Jupyter Widget"
      ]
     },
     "metadata": {},
     "output_type": "display_data"
    },
    {
     "name": "stderr",
     "output_type": "stream",
     "text": [
      "PdfReadWarning: Xref table not zero-indexed. ID numbers for objects will be corrected. [pdf.py:1736]\n"
     ]
    },
    {
     "name": "stdout",
     "output_type": "stream",
     "text": [
      "Could not open Excel\n",
      "Could not parse the PDF,  files/Keppel/54214cdb0cf2ce3a91b6e2bd.pdf\n",
      "Could not parse the PDF,  files/Keppel/keppel_wickens_design_and_analysis.pdf\n",
      "Could not open Excel\n",
      "Could not open Excel\n",
      "Could not open Excel\n",
      "Could not parse the PDF,  files/Prudential/10.1007%2Fs10551-010-0597-8.pdf\n",
      "WARNING *** file size (32640) not 512 + multiple of sector size (512)\n",
      "\n"
     ]
    }
   ],
   "source": [
    "all_text = []\n",
    "for f in tqdm(all_files):\n",
    "    try:\n",
    "        all_text.append(extract_text.apply(f))\n",
    "    except:\n",
    "        pass"
   ]
  },
  {
   "cell_type": "code",
   "execution_count": 2,
   "metadata": {
    "collapsed": true
   },
   "outputs": [],
   "source": [
    "#Write\n",
    "#pickle.dump( all_text, open( \"all_text.p\", \"wb\" ) )\n",
    "#Read\n",
    "all_text = pickle.load( open( \"all_text.p\", \"rb\" ) )"
   ]
  },
  {
   "cell_type": "code",
   "execution_count": 5,
   "metadata": {
    "collapsed": true
   },
   "outputs": [],
   "source": [
    "import spacy\n",
    "nlp = spacy.load('en')"
   ]
  },
  {
   "cell_type": "code",
   "execution_count": null,
   "metadata": {},
   "outputs": [
    {
     "data": {
      "application/vnd.jupyter.widget-view+json": {
       "model_id": "0a0953edf2ab4af29f9b4547cc4868de",
       "version_major": 2,
       "version_minor": 0
      },
      "text/plain": [
       "A Jupyter Widget"
      ]
     },
     "metadata": {},
     "output_type": "display_data"
    }
   ],
   "source": [
    "#DO NOT EXECUTE LIKE THAT\n",
    "#require a lot of memory\n",
    "all_docs = []\n",
    "for t in tqdm(all_text):\n",
    "    all_docs.append(nlp(t))\n",
    "print(all_docs)"
   ]
  },
  {
   "cell_type": "code",
   "execution_count": 3,
   "metadata": {},
   "outputs": [
    {
     "name": "stderr",
     "output_type": "stream",
     "text": [
      "100%|██████████| 375/375 [11:04<00:00,  1.77s/it] \n"
     ]
    },
    {
     "name": "stdout",
     "output_type": "stream",
     "text": [
      "CPU times: user 41min 39s, sys: 31min 2s, total: 1h 12min 41s\n",
      "Wall time: 11min 24s\n"
     ]
    }
   ],
   "source": [
    "import text_prepocessing\n",
    "%time sentenses, dico = text_prepocessing.apply(all_text)"
   ]
  },
  {
   "cell_type": "code",
   "execution_count": 5,
   "metadata": {},
   "outputs": [],
   "source": [
    "util.save(dico, 'safe/dico.p')\n",
    "util.save(sentenses, 'safe/sentenses.p')"
   ]
  },
  {
   "cell_type": "code",
   "execution_count": 15,
   "metadata": {
    "collapsed": true
   },
   "outputs": [],
   "source": [
    "dico_revers = {dico[k]:k for k in dico}"
   ]
  },
  {
   "cell_type": "code",
   "execution_count": 52,
   "metadata": {
    "collapsed": true
   },
   "outputs": [],
   "source": [
    "sentenses_word = []\n",
    "for sent in sentenses:\n",
    "    sent = [dico_revers[i] for i in sent]\n",
    "    sentenses_word.append(sent)"
   ]
  },
  {
   "cell_type": "code",
   "execution_count": 53,
   "metadata": {},
   "outputs": [
    {
     "name": "stdout",
     "output_type": "stream",
     "text": [
      "CPU times: user 2min 23s, sys: 680 ms, total: 2min 23s\n",
      "Wall time: 49 s\n"
     ]
    }
   ],
   "source": [
    "%time model = gensim.models.Word2Vec(sentences=sentenses_word, min_count=1, iter=10, size=100)# default size is 100"
   ]
  },
  {
   "cell_type": "code",
   "execution_count": 61,
   "metadata": {},
   "outputs": [
    {
     "data": {
      "text/plain": [
       "[('bright', 0.6799262166023254),\n",
       " ('adventure', 0.6349835395812988),\n",
       " ('sculpture', 0.6027457118034363),\n",
       " ('pleasant', 0.6000427603721619),\n",
       " ('statue', 0.5998291969299316),\n",
       " ('folk', 0.5973626971244812),\n",
       " ('bride', 0.5953539609909058),\n",
       " ('famous', 0.5936881303787231),\n",
       " ('celebrated', 0.5807685256004333),\n",
       " ('musick', 0.5777114033699036)]"
      ]
     },
     "execution_count": 61,
     "metadata": {},
     "output_type": "execute_result"
    }
   ],
   "source": [
    "model.wv.most_similar('beautiful')#(str(dico['prudential']))"
   ]
  },
  {
   "cell_type": "code",
   "execution_count": 7,
   "metadata": {},
   "outputs": [
    {
     "data": {
      "text/plain": [
       "375"
      ]
     },
     "execution_count": 7,
     "metadata": {},
     "output_type": "execute_result"
    }
   ],
   "source": [
    "len(all_text)"
   ]
  },
  {
   "cell_type": "code",
   "execution_count": 3,
   "metadata": {},
   "outputs": [
    {
     "data": {
      "application/vnd.jupyter.widget-view+json": {
       "model_id": "2099ba68755741939a5e96136435a78d",
       "version_major": 2,
       "version_minor": 0
      },
      "text/plain": [
       "A Jupyter Widget"
      ]
     },
     "metadata": {},
     "output_type": "display_data"
    },
    {
     "name": "stdout",
     "output_type": "stream",
     "text": [
      "\n",
      "12172369\n"
     ]
    }
   ],
   "source": [
    "l_total = 0\n",
    "for t in tqdm(all_text):\n",
    "    l_total += len(t.split())\n",
    "print(l_total)"
   ]
  },
  {
   "cell_type": "code",
   "execution_count": 11,
   "metadata": {},
   "outputs": [
    {
     "data": {
      "application/vnd.jupyter.widget-view+json": {
       "model_id": "661095f737d143299d085ce7d8ec0535",
       "version_major": 2,
       "version_minor": 0
      },
      "text/plain": [
       "A Jupyter Widget"
      ]
     },
     "metadata": {},
     "output_type": "display_data"
    },
    {
     "name": "stdout",
     "output_type": "stream",
     "text": [
      "\n"
     ]
    },
    {
     "data": {
      "text/plain": [
       "12172350"
      ]
     },
     "execution_count": 11,
     "metadata": {},
     "output_type": "execute_result"
    }
   ],
   "source": [
    "text_join = ''\n",
    "for t in tqdm(all_text):\n",
    "    text_join += t + '.'\n",
    "len(text_join.split())"
   ]
  },
  {
   "cell_type": "code",
   "execution_count": 8,
   "metadata": {},
   "outputs": [
    {
     "data": {
      "application/vnd.jupyter.widget-view+json": {
       "model_id": "6eeb91dfb5244221b9c16185b0044c42",
       "version_major": 2,
       "version_minor": 0
      },
      "text/plain": [
       "A Jupyter Widget"
      ]
     },
     "metadata": {},
     "output_type": "display_data"
    },
    {
     "name": "stdout",
     "output_type": "stream",
     "text": [
      "\n"
     ]
    }
   ],
   "source": [
    "#%time doc = nlp(text_join) #make the kernel\n",
    "sentences = []\n",
    "for t in tqdm(all_text):\n",
    "    sentences.append(t.split()) #better preprocessing should be done\n",
    "#print(sentences[0])"
   ]
  },
  {
   "cell_type": "code",
   "execution_count": 27,
   "metadata": {},
   "outputs": [
    {
     "name": "stdout",
     "output_type": "stream",
     "text": [
      "CPU times: user 1min 25s, sys: 664 ms, total: 1min 25s\n",
      "Wall time: 39.2 s\n"
     ]
    }
   ],
   "source": [
    "%time model = gensim.models.Word2Vec(sentences=sentences, min_count=1, iter=10, size=100)# default size is 100"
   ]
  },
  {
   "cell_type": "code",
   "execution_count": 28,
   "metadata": {},
   "outputs": [
    {
     "data": {
      "text/plain": [
       "100"
      ]
     },
     "execution_count": 28,
     "metadata": {},
     "output_type": "execute_result"
    }
   ],
   "source": [
    "model.vector_size"
   ]
  },
  {
   "cell_type": "code",
   "execution_count": 39,
   "metadata": {},
   "outputs": [
    {
     "data": {
      "text/plain": [
       "[('company', 0.8132382035255432),\n",
       " ('Financial,', 0.8050541281700134),\n",
       " ('Company', 0.7744234204292297),\n",
       " ('Prudential,', 0.7719372510910034),\n",
       " ('Sustainability', 0.7574257254600525),\n",
       " ('Prudential™s', 0.7508441805839539),\n",
       " ('Group', 0.7506619095802307),\n",
       " ('its', 0.7381016612052917),\n",
       " ('Pruco', 0.7379685640335083),\n",
       " ('Individual', 0.7355672121047974)]"
      ]
     },
     "execution_count": 39,
     "metadata": {},
     "output_type": "execute_result"
    }
   ],
   "source": [
    "#model.most_similar('Prudential')\n",
    "model.wv.most_similar('Prudential')"
   ]
  },
  {
   "cell_type": "code",
   "execution_count": 45,
   "metadata": {},
   "outputs": [
    {
     "data": {
      "text/plain": [
       "[('keppeliteKeppel', 0.8555431962013245),\n",
       " ('5Keppel', 0.844109833240509),\n",
       " ('ﬁKeppel', 0.7952330112457275),\n",
       " ('Keppel™s', 0.7859931588172913),\n",
       " ('Nakilat-Keppel', 0.7728970050811768),\n",
       " ('townshipKeppel', 0.7728875875473022),\n",
       " ('re-deliveryKeppel', 0.7536769509315491),\n",
       " ('(Keppel', 0.7523106336593628),\n",
       " ('ÒSubic', 0.7519877552986145),\n",
       " ('Subic', 0.750602126121521)]"
      ]
     },
     "execution_count": 45,
     "metadata": {},
     "output_type": "execute_result"
    }
   ],
   "source": [
    "model.wv.most_similar('Keppel')"
   ]
  },
  {
   "cell_type": "code",
   "execution_count": 48,
   "metadata": {},
   "outputs": [
    {
     "data": {
      "text/plain": [
       "0.6170042476875606"
      ]
     },
     "execution_count": 48,
     "metadata": {},
     "output_type": "execute_result"
    }
   ],
   "source": [
    "model.wv.similarity('Keppel', 'Prudential')"
   ]
  },
  {
   "cell_type": "markdown",
   "metadata": {},
   "source": [
    "The similar words are good but clearly some preprocessing needs to be done"
   ]
  },
  {
   "cell_type": "code",
   "execution_count": null,
   "metadata": {
    "collapsed": true
   },
   "outputs": [],
   "source": []
  }
 ],
 "metadata": {
  "kernelspec": {
   "display_name": "Python 3",
   "language": "python",
   "name": "python3"
  },
  "language_info": {
   "codemirror_mode": {
    "name": "ipython",
    "version": 3
   },
   "file_extension": ".py",
   "mimetype": "text/x-python",
   "name": "python",
   "nbconvert_exporter": "python",
   "pygments_lexer": "ipython3",
   "version": "3.6.3"
  }
 },
 "nbformat": 4,
 "nbformat_minor": 2
}
