{
 "cells": [
  {
   "cell_type": "code",
   "execution_count": 1,
   "metadata": {},
   "outputs": [
    {
     "name": "stderr",
     "output_type": "stream",
     "text": [
      "/home/charles/anaconda3/lib/python3.6/site-packages/h5py/__init__.py:34: FutureWarning: Conversion of the second argument of issubdtype from `float` to `np.floating` is deprecated. In future, it will be treated as `np.float64 == np.dtype(float).type`.\n",
      "  from ._conv import register_converters as _register_converters\n",
      "Using TensorFlow backend.\n"
     ]
    }
   ],
   "source": [
    "%load_ext autoreload\n",
    "%autoreload 2\n",
    "import glob\n",
    "import extract_text\n",
    "import gensim\n",
    "import numpy as np\n",
    "import text_preprocessing\n",
    "from tqdm import tqdm_notebook as tqdm\n",
    "import util"
   ]
  },
  {
   "cell_type": "code",
   "execution_count": null,
   "metadata": {
    "collapsed": true
   },
   "outputs": [],
   "source": [
    "#open the files\n",
    "all_files = glob.glob('files/*/*')"
   ]
  },
  {
   "cell_type": "code",
   "execution_count": null,
   "metadata": {
    "collapsed": true
   },
   "outputs": [],
   "source": [
    "all_text = []\n",
    "for f in tqdm(all_files):\n",
    "    try:\n",
    "        all_text.append(extract_text.apply(f))\n",
    "    except:\n",
    "        print(\"passed\")\n",
    "        pass\n",
    "util.save(all_text, 'safe/all_text.p')"
   ]
  },
  {
   "cell_type": "code",
   "execution_count": 2,
   "metadata": {
    "collapsed": true
   },
   "outputs": [],
   "source": [
    "#load preread text (speedup)\n",
    "all_text = util.load('safe/all_text.p')"
   ]
  },
  {
   "cell_type": "code",
   "execution_count": 8,
   "metadata": {},
   "outputs": [
    {
     "name": "stdout",
     "output_type": "stream",
     "text": [
      "100000\n"
     ]
    },
    {
     "name": "stderr",
     "output_type": "stream",
     "text": [
      "100%|██████████| 375/375 [09:26<00:00,  1.51s/it]\n"
     ]
    },
    {
     "name": "stdout",
     "output_type": "stream",
     "text": [
      "CPU times: user 38min 47s, sys: 52min 24s, total: 1h 31min 11s\n",
      "Wall time: 9min 36s\n"
     ]
    }
   ],
   "source": [
    "preprocessor = text_preprocessing.Preprocessor(max_nb_words=100000)\n",
    "%time sentenses, dico = preprocessor.fit_and_vectorize(all_text)\n",
    "util.save(dico, 'safe/dico_copus.p')\n",
    "util.save(sentenses, 'safe/sentenses.p')"
   ]
  },
  {
   "cell_type": "code",
   "execution_count": 10,
   "metadata": {
    "collapsed": true
   },
   "outputs": [],
   "source": [
    "dico = util.load('safe/dico_copus.p')\n",
    "sentenses = util.load('safe/sentenses.p')"
   ]
  },
  {
   "cell_type": "code",
   "execution_count": 12,
   "metadata": {
    "collapsed": true
   },
   "outputs": [],
   "source": [
    "dico_revers = {dico[k]:k for k in dico}"
   ]
  },
  {
   "cell_type": "code",
   "execution_count": 13,
   "metadata": {
    "collapsed": true
   },
   "outputs": [],
   "source": [
    "sentenses_word = []\n",
    "for sent in sentenses:\n",
    "    sent = [dico_revers[i] for i in sent]\n",
    "    sentenses_word.append(sent)"
   ]
  },
  {
   "cell_type": "code",
   "execution_count": 14,
   "metadata": {},
   "outputs": [
    {
     "name": "stdout",
     "output_type": "stream",
     "text": [
      "CPU times: user 1min 3s, sys: 235 ms, total: 1min 4s\n",
      "Wall time: 24.2 s\n"
     ]
    }
   ],
   "source": [
    "%time model = gensim.models.Word2Vec(sentences=sentenses_word, min_count=1, iter=10, size=300, max_vocab_size=100000)# default size is 100"
   ]
  },
  {
   "cell_type": "code",
   "execution_count": 15,
   "metadata": {},
   "outputs": [
    {
     "name": "stdout",
     "output_type": "stream",
     "text": [
      "99999\n"
     ]
    }
   ],
   "source": [
    "#https://codekansas.github.io/blog/2016/gensim.html\n",
    "vocab = dict([(k, v.index) for k, v in model.wv.vocab.items()])\n",
    "weights = model.wv.vectors\n",
    "np.save(open('safe/embeddings.np', 'wb'), weights)\n",
    "util.save(vocab, 'safe/vocab_gensim.p')"
   ]
  },
  {
   "cell_type": "code",
   "execution_count": 18,
   "metadata": {},
   "outputs": [
    {
     "data": {
      "text/plain": [
       "[('nintendo', 0.5323249101638794),\n",
       " ('sustainability', 0.5225441455841064),\n",
       " ('prei', 0.5014888048171997),\n",
       " ('commitment', 0.495370090007782),\n",
       " ('tangram', 0.4861685633659363),\n",
       " ('inclusion', 0.4757257103919983),\n",
       " ('loom', 0.475308895111084),\n",
       " ('morningstar', 0.47198575735092163),\n",
       " ('ecosystems', 0.47135046124458313),\n",
       " ('smokefree', 0.47037386894226074)]"
      ]
     },
     "execution_count": 18,
     "metadata": {},
     "output_type": "execute_result"
    }
   ],
   "source": [
    "model.wv.most_similar('prudential')#(str(dico['prudential']))"
   ]
  },
  {
   "cell_type": "code",
   "execution_count": 21,
   "metadata": {},
   "outputs": [
    {
     "data": {
      "text/plain": [
       "0.4147244019999571"
      ]
     },
     "execution_count": 21,
     "metadata": {},
     "output_type": "execute_result"
    }
   ],
   "source": [
    "model.wv.similarity('prudential', 'company')"
   ]
  }
 ],
 "metadata": {
  "kernelspec": {
   "display_name": "Python 3",
   "language": "python",
   "name": "python3"
  },
  "language_info": {
   "codemirror_mode": {
    "name": "ipython",
    "version": 3
   },
   "file_extension": ".py",
   "mimetype": "text/x-python",
   "name": "python",
   "nbconvert_exporter": "python",
   "pygments_lexer": "ipython3",
   "version": "3.6.3"
  }
 },
 "nbformat": 4,
 "nbformat_minor": 2
}
