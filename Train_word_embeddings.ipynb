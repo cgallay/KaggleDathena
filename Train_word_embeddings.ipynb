{
 "cells": [
  {
   "cell_type": "code",
   "execution_count": 2,
   "metadata": {},
   "outputs": [
    {
     "name": "stderr",
     "output_type": "stream",
     "text": [
      "/home/charles/anaconda3/lib/python3.6/site-packages/h5py/__init__.py:34: FutureWarning: Conversion of the second argument of issubdtype from `float` to `np.floating` is deprecated. In future, it will be treated as `np.float64 == np.dtype(float).type`.\n",
      "  from ._conv import register_converters as _register_converters\n",
      "Using TensorFlow backend.\n"
     ]
    }
   ],
   "source": [
    "%load_ext autoreload\n",
    "%autoreload 2\n",
    "import keras\n",
    "import glob\n",
    "import extract_text\n",
    "import pickle\n",
    "import gensim\n",
    "import numpy as np\n",
    "import text_preprocessing\n",
    "from tqdm import tqdm_notebook as tqdm\n",
    "import util"
   ]
  },
  {
   "cell_type": "code",
   "execution_count": 3,
   "metadata": {
    "collapsed": true
   },
   "outputs": [],
   "source": [
    "#open the files\n",
    "all_files = glob.glob('files/*/*')"
   ]
  },
  {
   "cell_type": "code",
   "execution_count": 4,
   "metadata": {},
   "outputs": [
    {
     "data": {
      "application/vnd.jupyter.widget-view+json": {
       "model_id": "3bd817afef9b4fc2809ec710d23b9d71",
       "version_major": 2,
       "version_minor": 0
      },
      "text/html": [
       "<p>Failed to display Jupyter Widget of type <code>HBox</code>.</p>\n",
       "<p>\n",
       "  If you're reading this message in the Jupyter Notebook or JupyterLab Notebook, it may mean\n",
       "  that the widgets JavaScript is still loading. If this message persists, it\n",
       "  likely means that the widgets JavaScript library is either not installed or\n",
       "  not enabled. See the <a href=\"https://ipywidgets.readthedocs.io/en/stable/user_install.html\">Jupyter\n",
       "  Widgets Documentation</a> for setup instructions.\n",
       "</p>\n",
       "<p>\n",
       "  If you're reading this message in another frontend (for example, a static\n",
       "  rendering on GitHub or <a href=\"https://nbviewer.jupyter.org/\">NBViewer</a>),\n",
       "  it may mean that your frontend doesn't currently support widgets.\n",
       "</p>\n"
      ],
      "text/plain": [
       "HBox(children=(IntProgress(value=0, max=433), HTML(value='')))"
      ]
     },
     "metadata": {},
     "output_type": "display_data"
    },
    {
     "name": "stdout",
     "output_type": "stream",
     "text": [
      "passed\n"
     ]
    },
    {
     "name": "stderr",
     "output_type": "stream",
     "text": [
      "PdfReadWarning: Xref table not zero-indexed. ID numbers for objects will be corrected. [pdf.py:1736]\n"
     ]
    },
    {
     "name": "stdout",
     "output_type": "stream",
     "text": [
      "passed\n",
      "passed\n",
      "Could not parse the PDF,  files\\Keppel\\54214cdb0cf2ce3a91b6e2bd.pdf\n",
      "passed\n",
      "Could not open Excel\n",
      "passed\n",
      "passed\n",
      "Could not open Excel\n",
      "passed\n",
      "passed\n",
      "passed\n",
      "passed\n",
      "passed\n",
      "passed\n",
      "passed\n",
      "passed\n",
      "Could not parse the PDF,  files\\Keppel\\keppel_wickens_design_and_analysis.pdf\n",
      "passed\n",
      "passed\n",
      "passed\n",
      "passed\n",
      "passed\n",
      "passed\n",
      "Could not open Excel\n",
      "passed\n",
      "passed\n",
      "passed\n",
      "passed\n",
      "passed\n",
      "Could not parse the PDF,  files\\Prudential\\10.1007%2Fs10551-010-0597-8.pdf\n",
      "WARNING *** file size (32640) not 512 + multiple of sector size (512)\n",
      "passed\n",
      "passed\n",
      "passed\n",
      "passed\n",
      "passed\n",
      "passed\n",
      "passed\n",
      "passed\n",
      "passed\n",
      "Could not open Excel\n",
      "passed\n",
      "passed\n",
      "passed\n",
      "passed\n",
      "passed\n",
      "passed\n",
      "passed\n",
      "passed\n",
      "passed\n",
      "passed\n",
      "passed\n",
      "passed\n",
      "\n"
     ]
    }
   ],
   "source": [
    "all_text = []\n",
    "for f in tqdm(all_files):\n",
    "    try:\n",
    "        all_text.append(extract_text.apply(f))\n",
    "    except:\n",
    "        print(\"passed\")\n",
    "        pass"
   ]
  },
  {
   "cell_type": "code",
   "execution_count": 4,
   "metadata": {
    "collapsed": true
   },
   "outputs": [],
   "source": [
    "#Write\n",
    "#pickle.dump( all_text, open( \"all_text.p\", \"wb\" ) )\n",
    "#Read\n",
    "all_text = pickle.load(open(\"safe/all_text.p\", \"rb\" ) )"
   ]
  },
  {
   "cell_type": "code",
   "execution_count": 4,
   "metadata": {},
   "outputs": [
    {
     "name": "stderr",
     "output_type": "stream",
     "text": [
      "100%|████████████████████████████████████████████████████████████████████████████████| 375/375 [21:00<00:00,  3.36s/it]\n"
     ]
    },
    {
     "name": "stdout",
     "output_type": "stream",
     "text": [
      "Wall time: 21min 15s\n"
     ]
    }
   ],
   "source": [
    "preprocessor = text_preprocessing.Preprocessor(max_nb_words=10000)\n",
    "\n",
    "%time sentenses, dico = text_preprocessing.apply(all_text, )"
   ]
  },
  {
   "cell_type": "code",
   "execution_count": 9,
   "metadata": {
    "collapsed": true
   },
   "outputs": [],
   "source": [
    "util.save(dico, 'safe/dico.p')\n",
    "util.save(sentenses, 'safe/sentenses.p')"
   ]
  },
  {
   "cell_type": "code",
   "execution_count": 3,
   "metadata": {},
   "outputs": [],
   "source": [
    "dico = util.load('safe/dico.p')\n",
    "sentenses = util.load('safe/sentenses.p')"
   ]
  },
  {
   "cell_type": "code",
   "execution_count": 4,
   "metadata": {},
   "outputs": [
    {
     "data": {
      "text/plain": [
       "564576"
      ]
     },
     "execution_count": 4,
     "metadata": {},
     "output_type": "execute_result"
    }
   ],
   "source": [
    "len(dico)"
   ]
  },
  {
   "cell_type": "code",
   "execution_count": 5,
   "metadata": {
    "collapsed": true
   },
   "outputs": [],
   "source": [
    "dico_revers = {dico[k]:k for k in dico}"
   ]
  },
  {
   "cell_type": "code",
   "execution_count": 6,
   "metadata": {
    "collapsed": true
   },
   "outputs": [],
   "source": [
    "sentenses_word = []\n",
    "for sent in sentenses:\n",
    "    sent = [dico_revers[i] for i in sent]\n",
    "    sentenses_word.append(sent)"
   ]
  },
  {
   "cell_type": "code",
   "execution_count": 12,
   "metadata": {},
   "outputs": [
    {
     "name": "stdout",
     "output_type": "stream",
     "text": [
      "CPU times: user 2min 35s, sys: 445 ms, total: 2min 35s\n",
      "Wall time: 53.2 s\n"
     ]
    }
   ],
   "source": [
    "%time model = gensim.models.Word2Vec(sentences=sentenses_word, min_count=1, iter=10, size=100, max_vocab_size=10000)# default size is 100"
   ]
  },
  {
   "cell_type": "code",
   "execution_count": 66,
   "metadata": {},
   "outputs": [
    {
     "name": "stdout",
     "output_type": "stream",
     "text": [
      "9999\n"
     ]
    }
   ],
   "source": [
    "#https://codekansas.github.io/blog/2016/gensim.html\n",
    "vocab = dict([(k, v.index) for k, v in model.wv.vocab.items()])\n",
    "weights = model.wv.vectors\n",
    "np.save(open('safe/embeddings.np', 'wb'), weights)\n",
    "util.save(vocab, 'safe/vocab_gensim.p')\n",
    "print(len(vocab))"
   ]
  },
  {
   "cell_type": "code",
   "execution_count": 63,
   "metadata": {},
   "outputs": [
    {
     "data": {
      "text/plain": [
       "[('sustainability', 0.5215795636177063),\n",
       " ('company', 0.505384087562561),\n",
       " ('prei', 0.44467654824256897),\n",
       " ('keppel', 0.4401465058326721),\n",
       " ('group', 0.4056357741355896),\n",
       " ('statement', 0.39897868037223816),\n",
       " ('commitment', 0.3830746114253998),\n",
       " ('entity', 0.374951034784317),\n",
       " ('priac', 0.3743763267993927),\n",
       " ('reporting', 0.36383605003356934)]"
      ]
     },
     "execution_count": 63,
     "metadata": {},
     "output_type": "execute_result"
    }
   ],
   "source": [
    "model.wv.most_similar('prudential')#(str(dico['prudential']))"
   ]
  },
  {
   "cell_type": "code",
   "execution_count": null,
   "metadata": {
    "collapsed": true
   },
   "outputs": [],
   "source": []
  },
  {
   "cell_type": "code",
   "execution_count": 26,
   "metadata": {},
   "outputs": [
    {
     "data": {
      "text/plain": [
       "1435"
      ]
     },
     "execution_count": 26,
     "metadata": {},
     "output_type": "execute_result"
    }
   ],
   "source": [
    "model.corpus_count"
   ]
  },
  {
   "cell_type": "code",
   "execution_count": 7,
   "metadata": {},
   "outputs": [
    {
     "data": {
      "text/plain": [
       "375"
      ]
     },
     "execution_count": 7,
     "metadata": {},
     "output_type": "execute_result"
    }
   ],
   "source": [
    "len(all_text)"
   ]
  },
  {
   "cell_type": "code",
   "execution_count": 3,
   "metadata": {},
   "outputs": [
    {
     "data": {
      "application/vnd.jupyter.widget-view+json": {
       "model_id": "2099ba68755741939a5e96136435a78d",
       "version_major": 2,
       "version_minor": 0
      },
      "text/plain": [
       "A Jupyter Widget"
      ]
     },
     "metadata": {},
     "output_type": "display_data"
    },
    {
     "name": "stdout",
     "output_type": "stream",
     "text": [
      "\n",
      "12172369\n"
     ]
    }
   ],
   "source": [
    "l_total = 0\n",
    "for t in tqdm(all_text):\n",
    "    l_total += len(t.split())\n",
    "print(l_total)"
   ]
  },
  {
   "cell_type": "code",
   "execution_count": 11,
   "metadata": {},
   "outputs": [
    {
     "data": {
      "application/vnd.jupyter.widget-view+json": {
       "model_id": "661095f737d143299d085ce7d8ec0535",
       "version_major": 2,
       "version_minor": 0
      },
      "text/plain": [
       "A Jupyter Widget"
      ]
     },
     "metadata": {},
     "output_type": "display_data"
    },
    {
     "name": "stdout",
     "output_type": "stream",
     "text": [
      "\n"
     ]
    },
    {
     "data": {
      "text/plain": [
       "12172350"
      ]
     },
     "execution_count": 11,
     "metadata": {},
     "output_type": "execute_result"
    }
   ],
   "source": [
    "text_join = ''\n",
    "for t in tqdm(all_text):\n",
    "    text_join += t + '.'\n",
    "len(text_join.split())"
   ]
  },
  {
   "cell_type": "code",
   "execution_count": 31,
   "metadata": {},
   "outputs": [
    {
     "data": {
      "application/vnd.jupyter.widget-view+json": {
       "model_id": "e1b69c34725540d2b858bffbf61acfed",
       "version_major": 2,
       "version_minor": 0
      },
      "text/html": [
       "<p>Failed to display Jupyter Widget of type <code>HBox</code>.</p>\n",
       "<p>\n",
       "  If you're reading this message in the Jupyter Notebook or JupyterLab Notebook, it may mean\n",
       "  that the widgets JavaScript is still loading. If this message persists, it\n",
       "  likely means that the widgets JavaScript library is either not installed or\n",
       "  not enabled. See the <a href=\"https://ipywidgets.readthedocs.io/en/stable/user_install.html\">Jupyter\n",
       "  Widgets Documentation</a> for setup instructions.\n",
       "</p>\n",
       "<p>\n",
       "  If you're reading this message in another frontend (for example, a static\n",
       "  rendering on GitHub or <a href=\"https://nbviewer.jupyter.org/\">NBViewer</a>),\n",
       "  it may mean that your frontend doesn't currently support widgets.\n",
       "</p>\n"
      ],
      "text/plain": [
       "HBox(children=(IntProgress(value=0, max=375), HTML(value='')))"
      ]
     },
     "metadata": {},
     "output_type": "display_data"
    },
    {
     "name": "stdout",
     "output_type": "stream",
     "text": [
      "\n"
     ]
    }
   ],
   "source": [
    "#%time doc = nlp(text_join) #make the kernel\n",
    "import re\n",
    "sentences = []\n",
    "for t in tqdm(all_text):\n",
    "    prepocessed = \" \".join(re.findall(\"([A-Za-z@?:!]*)\",t))\n",
    "    \n",
    "    #print(prepocessed)\n",
    "    sentences.append(prepocessed) #better preprocessing should be done\n",
    "#print(sentences[0])"
   ]
  },
  {
   "cell_type": "code",
   "execution_count": 32,
   "metadata": {},
   "outputs": [
    {
     "name": "stdout",
     "output_type": "stream",
     "text": [
      "Wall time: 37.4 s\n"
     ]
    }
   ],
   "source": [
    "%time model = gensim.models.Word2Vec(sentences=sentences, min_count=1, iter=10, size=100)# default size is 100"
   ]
  },
  {
   "cell_type": "code",
   "execution_count": 23,
   "metadata": {},
   "outputs": [
    {
     "data": {
      "text/plain": [
       "100"
      ]
     },
     "execution_count": 23,
     "metadata": {},
     "output_type": "execute_result"
    }
   ],
   "source": [
    "model.vector_size"
   ]
  },
  {
   "cell_type": "code",
   "execution_count": 48,
   "metadata": {},
   "outputs": [
    {
     "data": {
      "text/plain": [
       "0.6170042476875606"
      ]
     },
     "execution_count": 48,
     "metadata": {},
     "output_type": "execute_result"
    }
   ],
   "source": [
    "model.wv.similarity('Keppel', 'Prudential')"
   ]
  },
  {
   "cell_type": "markdown",
   "metadata": {},
   "source": [
    "The similar words are good but clearly some preprocessing needs to be done"
   ]
  }
 ],
 "metadata": {
  "kernelspec": {
   "display_name": "Python 3",
   "language": "python",
   "name": "python3"
  },
  "language_info": {
   "codemirror_mode": {
    "name": "ipython",
    "version": 3
   },
   "file_extension": ".py",
   "mimetype": "text/x-python",
   "name": "python",
   "nbconvert_exporter": "python",
   "pygments_lexer": "ipython3",
   "version": "3.6.3"
  }
 },
 "nbformat": 4,
 "nbformat_minor": 2
}
