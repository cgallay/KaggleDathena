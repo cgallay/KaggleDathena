{
 "cells": [
  {
   "cell_type": "code",
   "execution_count": 1,
   "metadata": {},
   "outputs": [
    {
     "name": "stdout",
     "output_type": "stream",
     "text": [
      "Requirement already satisfied: tensorflow in /home/charles/anaconda3/lib/python3.6/site-packages\n",
      "Requirement already satisfied: protobuf>=3.4.0 in /home/charles/anaconda3/lib/python3.6/site-packages (from tensorflow)\n",
      "Requirement already satisfied: tensorflow-tensorboard<1.6.0,>=1.5.0 in /home/charles/anaconda3/lib/python3.6/site-packages (from tensorflow)\n",
      "Requirement already satisfied: wheel>=0.26 in /home/charles/anaconda3/lib/python3.6/site-packages (from tensorflow)\n",
      "Requirement already satisfied: six>=1.10.0 in /home/charles/anaconda3/lib/python3.6/site-packages (from tensorflow)\n",
      "Requirement already satisfied: numpy>=1.12.1 in /home/charles/anaconda3/lib/python3.6/site-packages (from tensorflow)\n",
      "Requirement already satisfied: absl-py>=0.1.6 in /home/charles/anaconda3/lib/python3.6/site-packages (from tensorflow)\n",
      "Requirement already satisfied: setuptools in /home/charles/anaconda3/lib/python3.6/site-packages (from protobuf>=3.4.0->tensorflow)\n",
      "Requirement already satisfied: werkzeug>=0.11.10 in /home/charles/anaconda3/lib/python3.6/site-packages (from tensorflow-tensorboard<1.6.0,>=1.5.0->tensorflow)\n",
      "Collecting html5lib==0.9999999 (from tensorflow-tensorboard<1.6.0,>=1.5.0->tensorflow)\n",
      "Requirement already satisfied: markdown>=2.6.8 in /home/charles/anaconda3/lib/python3.6/site-packages (from tensorflow-tensorboard<1.6.0,>=1.5.0->tensorflow)\n",
      "Requirement already satisfied: bleach==1.5.0 in /home/charles/anaconda3/lib/python3.6/site-packages (from tensorflow-tensorboard<1.6.0,>=1.5.0->tensorflow)\n",
      "Installing collected packages: html5lib\n",
      "  Found existing installation: html5lib 1.0b8\n",
      "    Uninstalling html5lib-1.0b8:\n",
      "      Successfully uninstalled html5lib-1.0b8\n",
      "Successfully installed html5lib-0.9999999\n"
     ]
    },
    {
     "name": "stderr",
     "output_type": "stream",
     "text": [
      "/home/charles/anaconda3/lib/python3.6/site-packages/h5py/__init__.py:34: FutureWarning: Conversion of the second argument of issubdtype from `float` to `np.floating` is deprecated. In future, it will be treated as `np.float64 == np.dtype(float).type`.\n",
      "  from ._conv import register_converters as _register_converters\n",
      "Using TensorFlow backend.\n"
     ]
    }
   ],
   "source": [
    "!pip install tensorflow\n",
    "%load_ext autoreload\n",
    "%autoreload 2\n",
    "import glob2\n",
    "import pandas as pd\n",
    "import numpy as np\n",
    "import text_summarization\n",
    "import extract_text\n",
    "import sentiment_analyzer\n",
    "import name_entity_analyzer\n",
    "from tqdm import tqdm_pandas\n",
    "from tqdm import tqdm_notebook as tqdm\n",
    "#from tqdm import tqdm\n",
    "import os\n",
    "os.environ[\"CUDA_VISIBLE_DEVICES\"] = \"\"\n",
    "import warnings\n",
    "warnings.filterwarnings('ignore')"
   ]
  },
  {
   "cell_type": "code",
   "execution_count": 2,
   "metadata": {},
   "outputs": [
    {
     "data": {
      "text/html": [
       "<div>\n",
       "<style>\n",
       "    .dataframe thead tr:only-child th {\n",
       "        text-align: right;\n",
       "    }\n",
       "\n",
       "    .dataframe thead th {\n",
       "        text-align: left;\n",
       "    }\n",
       "\n",
       "    .dataframe tbody tr th {\n",
       "        vertical-align: top;\n",
       "    }\n",
       "</style>\n",
       "<table border=\"1\" class=\"dataframe\">\n",
       "  <thead>\n",
       "    <tr style=\"text-align: right;\">\n",
       "      <th></th>\n",
       "      <th>id</th>\n",
       "      <th>filename</th>\n",
       "      <th>company</th>\n",
       "    </tr>\n",
       "  </thead>\n",
       "  <tbody>\n",
       "    <tr>\n",
       "      <th>0</th>\n",
       "      <td>0</td>\n",
       "      <td>JD_KDCREIT%20-%20Asset%20Mgt_Analyst_2017.pdf</td>\n",
       "      <td>Keppel</td>\n",
       "    </tr>\n",
       "    <tr>\n",
       "      <th>1</th>\n",
       "      <td>1</td>\n",
       "      <td>5f4c7c69049c32670176932fd1d305271372e912.pdf</td>\n",
       "      <td>Keppel</td>\n",
       "    </tr>\n",
       "    <tr>\n",
       "      <th>2</th>\n",
       "      <td>2</td>\n",
       "      <td>20100319_214216_BN4_F6859A6425BC8427482576EB00...</td>\n",
       "      <td>Keppel</td>\n",
       "    </tr>\n",
       "    <tr>\n",
       "      <th>3</th>\n",
       "      <td>3</td>\n",
       "      <td>businessassociatelist--1-.xlsx</td>\n",
       "      <td>Keppel</td>\n",
       "    </tr>\n",
       "    <tr>\n",
       "      <th>4</th>\n",
       "      <td>4</td>\n",
       "      <td>WSHA2011%20Winners_8%20Aug.pdf</td>\n",
       "      <td>Keppel</td>\n",
       "    </tr>\n",
       "  </tbody>\n",
       "</table>\n",
       "</div>"
      ],
      "text/plain": [
       "   id                                           filename company\n",
       "0   0      JD_KDCREIT%20-%20Asset%20Mgt_Analyst_2017.pdf  Keppel\n",
       "1   1       5f4c7c69049c32670176932fd1d305271372e912.pdf  Keppel\n",
       "2   2  20100319_214216_BN4_F6859A6425BC8427482576EB00...  Keppel\n",
       "3   3                     businessassociatelist--1-.xlsx  Keppel\n",
       "4   4                     WSHA2011%20Winners_8%20Aug.pdf  Keppel"
      ]
     },
     "execution_count": 2,
     "metadata": {},
     "output_type": "execute_result"
    }
   ],
   "source": [
    "df_files = pd.read_csv(\"submission_mapper.csv\",delimiter=\"|\")\n",
    "df_files = df_files.head(20)\n",
    "df_files.head()"
   ]
  },
  {
   "cell_type": "code",
   "execution_count": 3,
   "metadata": {},
   "outputs": [
    {
     "data": {
      "text/html": [
       "<div>\n",
       "<style>\n",
       "    .dataframe thead tr:only-child th {\n",
       "        text-align: right;\n",
       "    }\n",
       "\n",
       "    .dataframe thead th {\n",
       "        text-align: left;\n",
       "    }\n",
       "\n",
       "    .dataframe tbody tr th {\n",
       "        vertical-align: top;\n",
       "    }\n",
       "</style>\n",
       "<table border=\"1\" class=\"dataframe\">\n",
       "  <thead>\n",
       "    <tr style=\"text-align: right;\">\n",
       "      <th></th>\n",
       "      <th>id</th>\n",
       "      <th>filename</th>\n",
       "      <th>company</th>\n",
       "      <th>file_path</th>\n",
       "      <th>sentiment</th>\n",
       "    </tr>\n",
       "  </thead>\n",
       "  <tbody>\n",
       "    <tr>\n",
       "      <th>0</th>\n",
       "      <td>0</td>\n",
       "      <td>JD_KDCREIT%20-%20Asset%20Mgt_Analyst_2017.pdf</td>\n",
       "      <td>Keppel</td>\n",
       "      <td>files/Keppel/JD_KDCREIT%20-%20Asset%20Mgt_Anal...</td>\n",
       "      <td>NaN</td>\n",
       "    </tr>\n",
       "    <tr>\n",
       "      <th>1</th>\n",
       "      <td>1</td>\n",
       "      <td>5f4c7c69049c32670176932fd1d305271372e912.pdf</td>\n",
       "      <td>Keppel</td>\n",
       "      <td>files/Keppel/5f4c7c69049c32670176932fd1d305271...</td>\n",
       "      <td>NaN</td>\n",
       "    </tr>\n",
       "    <tr>\n",
       "      <th>2</th>\n",
       "      <td>2</td>\n",
       "      <td>20100319_214216_BN4_F6859A6425BC8427482576EB00...</td>\n",
       "      <td>Keppel</td>\n",
       "      <td>files/Keppel/20100319_214216_BN4_F6859A6425BC8...</td>\n",
       "      <td>NaN</td>\n",
       "    </tr>\n",
       "    <tr>\n",
       "      <th>3</th>\n",
       "      <td>3</td>\n",
       "      <td>businessassociatelist--1-.xlsx</td>\n",
       "      <td>Keppel</td>\n",
       "      <td>files/Keppel/businessassociatelist--1-.xlsx</td>\n",
       "      <td>NaN</td>\n",
       "    </tr>\n",
       "    <tr>\n",
       "      <th>4</th>\n",
       "      <td>4</td>\n",
       "      <td>WSHA2011%20Winners_8%20Aug.pdf</td>\n",
       "      <td>Keppel</td>\n",
       "      <td>files/Keppel/WSHA2011%20Winners_8%20Aug.pdf</td>\n",
       "      <td>NaN</td>\n",
       "    </tr>\n",
       "  </tbody>\n",
       "</table>\n",
       "</div>"
      ],
      "text/plain": [
       "   id                                           filename company  \\\n",
       "0   0      JD_KDCREIT%20-%20Asset%20Mgt_Analyst_2017.pdf  Keppel   \n",
       "1   1       5f4c7c69049c32670176932fd1d305271372e912.pdf  Keppel   \n",
       "2   2  20100319_214216_BN4_F6859A6425BC8427482576EB00...  Keppel   \n",
       "3   3                     businessassociatelist--1-.xlsx  Keppel   \n",
       "4   4                     WSHA2011%20Winners_8%20Aug.pdf  Keppel   \n",
       "\n",
       "                                           file_path  sentiment  \n",
       "0  files/Keppel/JD_KDCREIT%20-%20Asset%20Mgt_Anal...        NaN  \n",
       "1  files/Keppel/5f4c7c69049c32670176932fd1d305271...        NaN  \n",
       "2  files/Keppel/20100319_214216_BN4_F6859A6425BC8...        NaN  \n",
       "3        files/Keppel/businessassociatelist--1-.xlsx        NaN  \n",
       "4        files/Keppel/WSHA2011%20Winners_8%20Aug.pdf        NaN  "
      ]
     },
     "execution_count": 3,
     "metadata": {},
     "output_type": "execute_result"
    }
   ],
   "source": [
    "df_files['file_path'] = df_files.apply(lambda x : \"files/\"+x.company+\"/\"+x.filename,axis=1)\n",
    "#files.index = files['file_path']\n",
    "df_files['sentiment'] = np.nan\n",
    "#files.loc['files/Keppel/02224.doc'].sentiment\n",
    "df_files.head()"
   ]
  },
  {
   "cell_type": "code",
   "execution_count": 2,
   "metadata": {
    "collapsed": true
   },
   "outputs": [],
   "source": [
    "def find_sentiment(path, company):\n",
    "    try:\n",
    "        text = extract_text.apply(path)\n",
    "        important_sents = text_summarization.apply(text)\n",
    "        print(len(important_sents))\n",
    "        important_sents = name_entity_analyzer.apply(important_sents, company.lower())\n",
    "        print(len(important_sents))\n",
    "        importance = np.mean(sentiment_analyzer.apply(important_sents))\n",
    "        return np.mean(importance)\n",
    "    except:\n",
    "        return -999"
   ]
  },
  {
   "cell_type": "code",
   "execution_count": 5,
   "metadata": {},
   "outputs": [
    {
     "name": "stdout",
     "output_type": "stream",
     "text": [
      "[nltk_data] Downloading package maxent_ne_chunker to\n",
      "[nltk_data]     /home/charles/nltk_data...\n",
      "[nltk_data]   Package maxent_ne_chunker is already up-to-date!\n",
      "[nltk_data] Downloading package words to /home/charles/nltk_data...\n",
      "[nltk_data]   Package words is already up-to-date!\n"
     ]
    }
   ],
   "source": [
    "from nltk import pos_tag, ne_chunk\n",
    "import nltk\n",
    "from nltk.tokenize import sent_tokenize, word_tokenize\n",
    "nltk.download('maxent_ne_chunker')\n",
    "nltk.download('words')\n",
    "NER = ne_chunk(pos_tag(word_tokenize(\"test\")))"
   ]
  },
  {
   "cell_type": "code",
   "execution_count": 6,
   "metadata": {},
   "outputs": [
    {
     "data": {
      "application/vnd.jupyter.widget-view+json": {
       "model_id": "860efd928019421ab4e6e263f0d78447",
       "version_major": 2,
       "version_minor": 0
      },
      "text/plain": [
       "A Jupyter Widget"
      ]
     },
     "metadata": {},
     "output_type": "display_data"
    },
    {
     "name": "stdout",
     "output_type": "stream",
     "text": [
      "\n"
     ]
    },
    {
     "data": {
      "application/vnd.jupyter.widget-view+json": {
       "model_id": "c3337c1d5caa43eebc2cb6a1c9083cf0",
       "version_major": 2,
       "version_minor": 0
      },
      "text/plain": [
       "A Jupyter Widget"
      ]
     },
     "metadata": {},
     "output_type": "display_data"
    },
    {
     "name": "stdout",
     "output_type": "stream",
     "text": [
      "6\n",
      "6\n",
      "WARNING:tensorflow:From /home/charles/anaconda3/lib/python3.6/site-packages/tensorflow/python/util/deprecation.py:497: calling conv1d (from tensorflow.python.ops.nn_ops) with data_format=NHWC is deprecated and will be removed in a future version.\n",
      "Instructions for updating:\n",
      "`NHWC` for data_format is deprecated, use `NWC` instead\n",
      "34\n",
      "18\n",
      "16\n",
      "9\n",
      "Could not open Excel\n",
      "0\n",
      "0\n",
      "4\n",
      "3\n",
      "8\n",
      "8\n",
      "18\n",
      "9\n",
      "449\n",
      "419\n",
      "3\n",
      "3\n",
      "1\n",
      "0\n",
      "218\n",
      "157\n",
      "2\n",
      "0\n",
      "167\n",
      "117\n",
      "147\n",
      "121\n",
      "2\n",
      "1\n",
      "1\n",
      "1\n",
      "454\n",
      "193\n",
      "1\n",
      "1\n",
      "1\n",
      "1\n",
      "8\n",
      "8\n",
      "\n"
     ]
    }
   ],
   "source": [
    "tqdm().pandas(desc=\"Progress:\")\n",
    "df_files['sentiment'] = df_files.progress_apply(lambda row: find_sentiment(row.file_path, row.company), axis=1)"
   ]
  },
  {
   "cell_type": "code",
   "execution_count": 7,
   "metadata": {},
   "outputs": [
    {
     "data": {
      "text/html": [
       "<div>\n",
       "<style>\n",
       "    .dataframe thead tr:only-child th {\n",
       "        text-align: right;\n",
       "    }\n",
       "\n",
       "    .dataframe thead th {\n",
       "        text-align: left;\n",
       "    }\n",
       "\n",
       "    .dataframe tbody tr th {\n",
       "        vertical-align: top;\n",
       "    }\n",
       "</style>\n",
       "<table border=\"1\" class=\"dataframe\">\n",
       "  <thead>\n",
       "    <tr style=\"text-align: right;\">\n",
       "      <th></th>\n",
       "      <th>id</th>\n",
       "      <th>filename</th>\n",
       "      <th>company</th>\n",
       "      <th>file_path</th>\n",
       "      <th>sentiment</th>\n",
       "    </tr>\n",
       "  </thead>\n",
       "  <tbody>\n",
       "    <tr>\n",
       "      <th>9</th>\n",
       "      <td>9</td>\n",
       "      <td>Dec06.xls</td>\n",
       "      <td>Keppel</td>\n",
       "      <td>files/Keppel/Dec06.xls</td>\n",
       "      <td>-999.000000</td>\n",
       "    </tr>\n",
       "    <tr>\n",
       "      <th>3</th>\n",
       "      <td>3</td>\n",
       "      <td>businessassociatelist--1-.xlsx</td>\n",
       "      <td>Keppel</td>\n",
       "      <td>files/Keppel/businessassociatelist--1-.xlsx</td>\n",
       "      <td>-999.000000</td>\n",
       "    </tr>\n",
       "    <tr>\n",
       "      <th>11</th>\n",
       "      <td>11</td>\n",
       "      <td>bmap_text_8.doc</td>\n",
       "      <td>Keppel</td>\n",
       "      <td>files/Keppel/bmap_text_8.doc</td>\n",
       "      <td>-999.000000</td>\n",
       "    </tr>\n",
       "    <tr>\n",
       "      <th>6</th>\n",
       "      <td>6</td>\n",
       "      <td>KOMTechnology%20StrategyJuly03v3.pdf</td>\n",
       "      <td>Keppel</td>\n",
       "      <td>files/Keppel/KOMTechnology%20StrategyJuly03v3.pdf</td>\n",
       "      <td>0.421908</td>\n",
       "    </tr>\n",
       "    <tr>\n",
       "      <th>4</th>\n",
       "      <td>4</td>\n",
       "      <td>WSHA2011%20Winners_8%20Aug.pdf</td>\n",
       "      <td>Keppel</td>\n",
       "      <td>files/Keppel/WSHA2011%20Winners_8%20Aug.pdf</td>\n",
       "      <td>0.427108</td>\n",
       "    </tr>\n",
       "    <tr>\n",
       "      <th>5</th>\n",
       "      <td>5</td>\n",
       "      <td>sin63964.doc</td>\n",
       "      <td>Keppel</td>\n",
       "      <td>files/Keppel/sin63964.doc</td>\n",
       "      <td>0.447935</td>\n",
       "    </tr>\n",
       "    <tr>\n",
       "      <th>2</th>\n",
       "      <td>2</td>\n",
       "      <td>20100319_214216_BN4_F6859A6425BC8427482576EB00...</td>\n",
       "      <td>Keppel</td>\n",
       "      <td>files/Keppel/20100319_214216_BN4_F6859A6425BC8...</td>\n",
       "      <td>0.502483</td>\n",
       "    </tr>\n",
       "    <tr>\n",
       "      <th>16</th>\n",
       "      <td>16</td>\n",
       "      <td>KLL_SR2011.pdf</td>\n",
       "      <td>Keppel</td>\n",
       "      <td>files/Keppel/KLL_SR2011.pdf</td>\n",
       "      <td>0.553212</td>\n",
       "    </tr>\n",
       "    <tr>\n",
       "      <th>14</th>\n",
       "      <td>14</td>\n",
       "      <td>nfholdings_1721961_0917.xlsx</td>\n",
       "      <td>Keppel</td>\n",
       "      <td>files/Keppel/nfholdings_1721961_0917.xlsx</td>\n",
       "      <td>0.572366</td>\n",
       "    </tr>\n",
       "    <tr>\n",
       "      <th>12</th>\n",
       "      <td>12</td>\n",
       "      <td>KCL_AR2014_Operating_Financial_Review.pdf</td>\n",
       "      <td>Keppel</td>\n",
       "      <td>files/Keppel/KCL_AR2014_Operating_Financial_Re...</td>\n",
       "      <td>0.580410</td>\n",
       "    </tr>\n",
       "    <tr>\n",
       "      <th>19</th>\n",
       "      <td>19</td>\n",
       "      <td>Dr%20Rob%20Kelly%20-%20Keppel%20Fels%20Loadout...</td>\n",
       "      <td>Keppel</td>\n",
       "      <td>files/Keppel/Dr%20Rob%20Kelly%20-%20Keppel%20F...</td>\n",
       "      <td>0.582677</td>\n",
       "    </tr>\n",
       "    <tr>\n",
       "      <th>7</th>\n",
       "      <td>7</td>\n",
       "      <td>Keppel%20REIT_AR2016.pdf</td>\n",
       "      <td>Keppel</td>\n",
       "      <td>files/Keppel/Keppel%20REIT_AR2016.pdf</td>\n",
       "      <td>0.592964</td>\n",
       "    </tr>\n",
       "    <tr>\n",
       "      <th>0</th>\n",
       "      <td>0</td>\n",
       "      <td>JD_KDCREIT%20-%20Asset%20Mgt_Analyst_2017.pdf</td>\n",
       "      <td>Keppel</td>\n",
       "      <td>files/Keppel/JD_KDCREIT%20-%20Asset%20Mgt_Anal...</td>\n",
       "      <td>0.598663</td>\n",
       "    </tr>\n",
       "    <tr>\n",
       "      <th>13</th>\n",
       "      <td>13</td>\n",
       "      <td>02_February_2016.pdf</td>\n",
       "      <td>Keppel</td>\n",
       "      <td>files/Keppel/02_February_2016.pdf</td>\n",
       "      <td>0.609650</td>\n",
       "    </tr>\n",
       "    <tr>\n",
       "      <th>10</th>\n",
       "      <td>10</td>\n",
       "      <td>04_April_2016.pdf</td>\n",
       "      <td>Keppel</td>\n",
       "      <td>files/Keppel/04_April_2016.pdf</td>\n",
       "      <td>0.651680</td>\n",
       "    </tr>\n",
       "    <tr>\n",
       "      <th>1</th>\n",
       "      <td>1</td>\n",
       "      <td>5f4c7c69049c32670176932fd1d305271372e912.pdf</td>\n",
       "      <td>Keppel</td>\n",
       "      <td>files/Keppel/5f4c7c69049c32670176932fd1d305271...</td>\n",
       "      <td>0.714151</td>\n",
       "    </tr>\n",
       "    <tr>\n",
       "      <th>8</th>\n",
       "      <td>8</td>\n",
       "      <td>pre_13sep2010_n2.pdf</td>\n",
       "      <td>Keppel</td>\n",
       "      <td>files/Keppel/pre_13sep2010_n2.pdf</td>\n",
       "      <td>0.850638</td>\n",
       "    </tr>\n",
       "    <tr>\n",
       "      <th>17</th>\n",
       "      <td>17</td>\n",
       "      <td>grants.xls</td>\n",
       "      <td>Keppel</td>\n",
       "      <td>files/Keppel/grants.xls</td>\n",
       "      <td>0.892452</td>\n",
       "    </tr>\n",
       "    <tr>\n",
       "      <th>15</th>\n",
       "      <td>15</td>\n",
       "      <td>standcontributorspre1999.xls</td>\n",
       "      <td>Keppel</td>\n",
       "      <td>files/Keppel/standcontributorspre1999.xls</td>\n",
       "      <td>0.983525</td>\n",
       "    </tr>\n",
       "    <tr>\n",
       "      <th>18</th>\n",
       "      <td>18</td>\n",
       "      <td>inSYNC_ecopy.pdf</td>\n",
       "      <td>Keppel</td>\n",
       "      <td>files/Keppel/inSYNC_ecopy.pdf</td>\n",
       "      <td>0.993831</td>\n",
       "    </tr>\n",
       "  </tbody>\n",
       "</table>\n",
       "</div>"
      ],
      "text/plain": [
       "    id                                           filename company  \\\n",
       "9    9                                          Dec06.xls  Keppel   \n",
       "3    3                     businessassociatelist--1-.xlsx  Keppel   \n",
       "11  11                                    bmap_text_8.doc  Keppel   \n",
       "6    6               KOMTechnology%20StrategyJuly03v3.pdf  Keppel   \n",
       "4    4                     WSHA2011%20Winners_8%20Aug.pdf  Keppel   \n",
       "5    5                                       sin63964.doc  Keppel   \n",
       "2    2  20100319_214216_BN4_F6859A6425BC8427482576EB00...  Keppel   \n",
       "16  16                                     KLL_SR2011.pdf  Keppel   \n",
       "14  14                       nfholdings_1721961_0917.xlsx  Keppel   \n",
       "12  12          KCL_AR2014_Operating_Financial_Review.pdf  Keppel   \n",
       "19  19  Dr%20Rob%20Kelly%20-%20Keppel%20Fels%20Loadout...  Keppel   \n",
       "7    7                           Keppel%20REIT_AR2016.pdf  Keppel   \n",
       "0    0      JD_KDCREIT%20-%20Asset%20Mgt_Analyst_2017.pdf  Keppel   \n",
       "13  13                               02_February_2016.pdf  Keppel   \n",
       "10  10                                  04_April_2016.pdf  Keppel   \n",
       "1    1       5f4c7c69049c32670176932fd1d305271372e912.pdf  Keppel   \n",
       "8    8                               pre_13sep2010_n2.pdf  Keppel   \n",
       "17  17                                         grants.xls  Keppel   \n",
       "15  15                       standcontributorspre1999.xls  Keppel   \n",
       "18  18                                   inSYNC_ecopy.pdf  Keppel   \n",
       "\n",
       "                                            file_path   sentiment  \n",
       "9                              files/Keppel/Dec06.xls -999.000000  \n",
       "3         files/Keppel/businessassociatelist--1-.xlsx -999.000000  \n",
       "11                       files/Keppel/bmap_text_8.doc -999.000000  \n",
       "6   files/Keppel/KOMTechnology%20StrategyJuly03v3.pdf    0.421908  \n",
       "4         files/Keppel/WSHA2011%20Winners_8%20Aug.pdf    0.427108  \n",
       "5                           files/Keppel/sin63964.doc    0.447935  \n",
       "2   files/Keppel/20100319_214216_BN4_F6859A6425BC8...    0.502483  \n",
       "16                        files/Keppel/KLL_SR2011.pdf    0.553212  \n",
       "14          files/Keppel/nfholdings_1721961_0917.xlsx    0.572366  \n",
       "12  files/Keppel/KCL_AR2014_Operating_Financial_Re...    0.580410  \n",
       "19  files/Keppel/Dr%20Rob%20Kelly%20-%20Keppel%20F...    0.582677  \n",
       "7               files/Keppel/Keppel%20REIT_AR2016.pdf    0.592964  \n",
       "0   files/Keppel/JD_KDCREIT%20-%20Asset%20Mgt_Anal...    0.598663  \n",
       "13                  files/Keppel/02_February_2016.pdf    0.609650  \n",
       "10                     files/Keppel/04_April_2016.pdf    0.651680  \n",
       "1   files/Keppel/5f4c7c69049c32670176932fd1d305271...    0.714151  \n",
       "8                   files/Keppel/pre_13sep2010_n2.pdf    0.850638  \n",
       "17                            files/Keppel/grants.xls    0.892452  \n",
       "15          files/Keppel/standcontributorspre1999.xls    0.983525  \n",
       "18                      files/Keppel/inSYNC_ecopy.pdf    0.993831  "
      ]
     },
     "execution_count": 7,
     "metadata": {},
     "output_type": "execute_result"
    }
   ],
   "source": [
    "df_files.sort_values('sentiment')"
   ]
  },
  {
   "cell_type": "code",
   "execution_count": 8,
   "metadata": {},
   "outputs": [
    {
     "data": {
      "text/plain": [
       "[name: \"/device:CPU:0\"\n",
       " device_type: \"CPU\"\n",
       " memory_limit: 268435456\n",
       " locality {\n",
       " }\n",
       " incarnation: 2769772470953493581]"
      ]
     },
     "execution_count": 8,
     "metadata": {},
     "output_type": "execute_result"
    }
   ],
   "source": [
    "from tensorflow.python.client import device_lib\n",
    "device_lib.list_local_devices()"
   ]
  },
  {
   "cell_type": "code",
   "execution_count": 9,
   "metadata": {},
   "outputs": [
    {
     "data": {
      "text/plain": [
       "array([[0.9848536]], dtype=float32)"
      ]
     },
     "execution_count": 9,
     "metadata": {},
     "output_type": "execute_result"
    }
   ],
   "source": [
    "sentiment_analyzer.apply(['''The Brani Export Inspection Station, located adjacent to the Keppel\n",
    "Free Trade Zone, was officially opened\n",
    "by Director-General of Customs Ho\n",
    "Chee Pong on 3 September 2015.'''])"
   ]
  },
  {
   "cell_type": "code",
   "execution_count": 6,
   "metadata": {},
   "outputs": [
    {
     "name": "stdout",
     "output_type": "stream",
     "text": [
      "The autoreload extension is already loaded. To reload it, use:\n",
      "  %reload_ext autoreload\n",
      "Keppel DHCS Pte Ltd \n",
      " Keppel FMO Pte Ltd \n",
      " Keppel Merlimau Cogen Pte Ltd \n",
      " Keppel Seghers NEWater Development Co\n"
     ]
    },
    {
     "ename": "AttributeError",
     "evalue": "'spacy.tokens.span.Span' object has no attribute 'lower'",
     "output_type": "error",
     "traceback": [
      "\u001b[0;31m---------------------------------------------------------------------------\u001b[0m",
      "\u001b[0;31mAttributeError\u001b[0m                            Traceback (most recent call last)",
      "\u001b[0;32m<ipython-input-6-2c56bf7ac369>\u001b[0m in \u001b[0;36m<module>\u001b[0;34m()\u001b[0m\n\u001b[1;32m      7\u001b[0m \u001b[0msumm\u001b[0m \u001b[0;34m=\u001b[0m \u001b[0mtext_summarization\u001b[0m\u001b[0;34m.\u001b[0m\u001b[0mapply\u001b[0m\u001b[0;34m(\u001b[0m\u001b[0mtext\u001b[0m\u001b[0;34m,\u001b[0m \u001b[0;34m'keppel'\u001b[0m\u001b[0;34m)\u001b[0m\u001b[0;34m\u001b[0m\u001b[0m\n\u001b[1;32m      8\u001b[0m \u001b[0mprint\u001b[0m\u001b[0;34m(\u001b[0m\u001b[0msumm\u001b[0m\u001b[0;34m[\u001b[0m\u001b[0;36m3\u001b[0m\u001b[0;34m]\u001b[0m\u001b[0;34m)\u001b[0m\u001b[0;34m\u001b[0m\u001b[0m\n\u001b[0;32m----> 9\u001b[0;31m \u001b[0msentiment_analyzer\u001b[0m\u001b[0;34m.\u001b[0m\u001b[0mapply\u001b[0m\u001b[0;34m(\u001b[0m\u001b[0msumm\u001b[0m\u001b[0;34m)\u001b[0m\u001b[0;34m\u001b[0m\u001b[0m\n\u001b[0m",
      "\u001b[0;32m~/Documents/ML experiment/Dathena Kaggle/sentiment_analyzer.py\u001b[0m in \u001b[0;36mapply\u001b[0;34m(list_sentence)\u001b[0m\n\u001b[1;32m     58\u001b[0m \u001b[0;34m\u001b[0m\u001b[0m\n\u001b[1;32m     59\u001b[0m     \u001b[0;32mfor\u001b[0m \u001b[0msent\u001b[0m \u001b[0;32min\u001b[0m \u001b[0mlist_sentence\u001b[0m\u001b[0;34m:\u001b[0m\u001b[0;34m\u001b[0m\u001b[0m\n\u001b[0;32m---> 60\u001b[0;31m         \u001b[0mwords\u001b[0m \u001b[0;34m=\u001b[0m \u001b[0msent\u001b[0m\u001b[0;34m.\u001b[0m\u001b[0mlower\u001b[0m\u001b[0;34m(\u001b[0m\u001b[0;34m)\u001b[0m\u001b[0;34m.\u001b[0m\u001b[0msplit\u001b[0m\u001b[0;34m(\u001b[0m\u001b[0;34m)\u001b[0m\u001b[0;34m\u001b[0m\u001b[0m\n\u001b[0m\u001b[1;32m     61\u001b[0m         \u001b[0mnew_data\u001b[0m \u001b[0;34m=\u001b[0m \u001b[0mnp\u001b[0m\u001b[0;34m.\u001b[0m\u001b[0marray\u001b[0m\u001b[0;34m(\u001b[0m\u001b[0;34m[\u001b[0m\u001b[0mword_index\u001b[0m\u001b[0;34m[\u001b[0m\u001b[0mword\u001b[0m\u001b[0;34m]\u001b[0m \u001b[0;32mif\u001b[0m \u001b[0mword\u001b[0m \u001b[0;32min\u001b[0m \u001b[0mword_index\u001b[0m \u001b[0;32melse\u001b[0m \u001b[0;36m0\u001b[0m \u001b[0;32mfor\u001b[0m \u001b[0mword\u001b[0m \u001b[0;32min\u001b[0m \u001b[0mwords\u001b[0m\u001b[0;34m]\u001b[0m\u001b[0;34m)\u001b[0m\u001b[0;34m\u001b[0m\u001b[0m\n\u001b[1;32m     62\u001b[0m         \u001b[0mnew_data\u001b[0m \u001b[0;34m=\u001b[0m \u001b[0;34m[\u001b[0m\u001b[0mi\u001b[0m \u001b[0;32mif\u001b[0m \u001b[0mi\u001b[0m \u001b[0;34m<\u001b[0m \u001b[0;36m10000\u001b[0m \u001b[0;32melse\u001b[0m \u001b[0;36m0\u001b[0m \u001b[0;32mfor\u001b[0m \u001b[0mi\u001b[0m \u001b[0;32min\u001b[0m \u001b[0mnew_data\u001b[0m\u001b[0;34m]\u001b[0m\u001b[0;34m\u001b[0m\u001b[0m\n",
      "\u001b[0;31mAttributeError\u001b[0m: 'spacy.tokens.span.Span' object has no attribute 'lower'"
     ]
    }
   ],
   "source": [
    "%load_ext autoreload\n",
    "%autoreload 2\n",
    "import sentiment_analyzer\n",
    "import os\n",
    "os.environ[\"CUDA_VISIBLE_DEVICES\"] = \"\"\n",
    "text = extract_text.apply('files/Keppel/WSHA2011%20Winners_8%20Aug.pdf')\n",
    "summ = text_summarization.apply(text, 'keppel')\n",
    "print(summ[3])\n",
    "sentiment_analyzer.apply(summ)"
   ]
  },
  {
   "cell_type": "code",
   "execution_count": 11,
   "metadata": {
    "collapsed": true
   },
   "outputs": [],
   "source": [
    "import spacy"
   ]
  },
  {
   "cell_type": "code",
   "execution_count": null,
   "metadata": {
    "collapsed": true
   },
   "outputs": [],
   "source": []
  }
 ],
 "metadata": {
  "kernelspec": {
   "display_name": "Python 3",
   "language": "python",
   "name": "python3"
  },
  "language_info": {
   "codemirror_mode": {
    "name": "ipython",
    "version": 3
   },
   "file_extension": ".py",
   "mimetype": "text/x-python",
   "name": "python",
   "nbconvert_exporter": "python",
   "pygments_lexer": "ipython3",
   "version": "3.6.3"
  }
 },
 "nbformat": 4,
 "nbformat_minor": 2
}
