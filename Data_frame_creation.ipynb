{
 "cells": [
  {
   "cell_type": "markdown",
   "metadata": {},
   "source": [
    "## This notebook should not be relaunched once you have the df_file_final.csv up"
   ]
  },
  {
   "cell_type": "markdown",
   "metadata": {},
   "source": [
    "The goal of this notebook is to create a **DataFrame** containing all phrases link to the company in each document, but also to add some features (when available) such as Title, Frequency and Count of company name"
   ]
  },
  {
   "cell_type": "code",
   "execution_count": 1,
   "metadata": {
    "collapsed": true
   },
   "outputs": [],
   "source": [
    "import pandas as pd\n",
    "import numpy as np\n",
    "from tqdm import tqdm_pandas\n",
    "from tqdm import tqdm_notebook as tqdm\n",
    "import extract_text\n",
    "import text_summarization"
   ]
  },
  {
   "cell_type": "code",
   "execution_count": 4,
   "metadata": {},
   "outputs": [
    {
     "data": {
      "text/html": [
       "<div>\n",
       "<style>\n",
       "    .dataframe thead tr:only-child th {\n",
       "        text-align: right;\n",
       "    }\n",
       "\n",
       "    .dataframe thead th {\n",
       "        text-align: left;\n",
       "    }\n",
       "\n",
       "    .dataframe tbody tr th {\n",
       "        vertical-align: top;\n",
       "    }\n",
       "</style>\n",
       "<table border=\"1\" class=\"dataframe\">\n",
       "  <thead>\n",
       "    <tr style=\"text-align: right;\">\n",
       "      <th></th>\n",
       "      <th>id</th>\n",
       "      <th>filename</th>\n",
       "      <th>company</th>\n",
       "      <th>file_path</th>\n",
       "      <th>sentiment</th>\n",
       "    </tr>\n",
       "  </thead>\n",
       "  <tbody>\n",
       "    <tr>\n",
       "      <th>0</th>\n",
       "      <td>0</td>\n",
       "      <td>JD_KDCREIT%20-%20Asset%20Mgt_Analyst_2017.pdf</td>\n",
       "      <td>Keppel</td>\n",
       "      <td>files/Keppel/JD_KDCREIT%20-%20Asset%20Mgt_Anal...</td>\n",
       "      <td>NaN</td>\n",
       "    </tr>\n",
       "    <tr>\n",
       "      <th>1</th>\n",
       "      <td>1</td>\n",
       "      <td>5f4c7c69049c32670176932fd1d305271372e912.pdf</td>\n",
       "      <td>Keppel</td>\n",
       "      <td>files/Keppel/5f4c7c69049c32670176932fd1d305271...</td>\n",
       "      <td>NaN</td>\n",
       "    </tr>\n",
       "    <tr>\n",
       "      <th>2</th>\n",
       "      <td>2</td>\n",
       "      <td>20100319_214216_BN4_F6859A6425BC8427482576EB00...</td>\n",
       "      <td>Keppel</td>\n",
       "      <td>files/Keppel/20100319_214216_BN4_F6859A6425BC8...</td>\n",
       "      <td>NaN</td>\n",
       "    </tr>\n",
       "    <tr>\n",
       "      <th>3</th>\n",
       "      <td>3</td>\n",
       "      <td>businessassociatelist--1-.xlsx</td>\n",
       "      <td>Keppel</td>\n",
       "      <td>files/Keppel/businessassociatelist--1-.xlsx</td>\n",
       "      <td>NaN</td>\n",
       "    </tr>\n",
       "    <tr>\n",
       "      <th>4</th>\n",
       "      <td>4</td>\n",
       "      <td>WSHA2011%20Winners_8%20Aug.pdf</td>\n",
       "      <td>Keppel</td>\n",
       "      <td>files/Keppel/WSHA2011%20Winners_8%20Aug.pdf</td>\n",
       "      <td>NaN</td>\n",
       "    </tr>\n",
       "  </tbody>\n",
       "</table>\n",
       "</div>"
      ],
      "text/plain": [
       "   id                                           filename company  \\\n",
       "0   0      JD_KDCREIT%20-%20Asset%20Mgt_Analyst_2017.pdf  Keppel   \n",
       "1   1       5f4c7c69049c32670176932fd1d305271372e912.pdf  Keppel   \n",
       "2   2  20100319_214216_BN4_F6859A6425BC8427482576EB00...  Keppel   \n",
       "3   3                     businessassociatelist--1-.xlsx  Keppel   \n",
       "4   4                     WSHA2011%20Winners_8%20Aug.pdf  Keppel   \n",
       "\n",
       "                                           file_path  sentiment  \n",
       "0  files/Keppel/JD_KDCREIT%20-%20Asset%20Mgt_Anal...        NaN  \n",
       "1  files/Keppel/5f4c7c69049c32670176932fd1d305271...        NaN  \n",
       "2  files/Keppel/20100319_214216_BN4_F6859A6425BC8...        NaN  \n",
       "3        files/Keppel/businessassociatelist--1-.xlsx        NaN  \n",
       "4        files/Keppel/WSHA2011%20Winners_8%20Aug.pdf        NaN  "
      ]
     },
     "execution_count": 4,
     "metadata": {},
     "output_type": "execute_result"
    }
   ],
   "source": [
    "df_files = pd.read_csv(\"submission_mapper.csv\",delimiter=\"|\")\n",
    "df_files['file_path'] = df_files.apply(lambda x : \"files/\"+x.company+\"/\"+x.filename,axis=1)\n",
    "df_files['sentiment'] = np.nan\n",
    "df_files.head()"
   ]
  },
  {
   "cell_type": "code",
   "execution_count": 5,
   "metadata": {},
   "outputs": [
    {
     "data": {
      "text/html": [
       "<div>\n",
       "<style>\n",
       "    .dataframe thead tr:only-child th {\n",
       "        text-align: right;\n",
       "    }\n",
       "\n",
       "    .dataframe thead th {\n",
       "        text-align: left;\n",
       "    }\n",
       "\n",
       "    .dataframe tbody tr th {\n",
       "        vertical-align: top;\n",
       "    }\n",
       "</style>\n",
       "<table border=\"1\" class=\"dataframe\">\n",
       "  <thead>\n",
       "    <tr style=\"text-align: right;\">\n",
       "      <th></th>\n",
       "      <th>Sentences</th>\n",
       "    </tr>\n",
       "  </thead>\n",
       "  <tbody>\n",
       "  </tbody>\n",
       "</table>\n",
       "</div>"
      ],
      "text/plain": [
       "Empty DataFrame\n",
       "Columns: [Sentences]\n",
       "Index: []"
      ]
     },
     "execution_count": 5,
     "metadata": {},
     "output_type": "execute_result"
    }
   ],
   "source": [
    "keppelWord = ['keppel corporation', 'keppel capital', 'keppel reit', 'keppel infrastructure','keppel o&m', 'keppel energy', 'keppel offshore', 'keppel dhcs', 'keppel fairway', 'keppel professorship', 'keppel reit', 'keppel group', 'keppel land' , 'keppel singmarine', 'keppel fels', 'keppel shipyard','keppel shipyard' , 'keppel gas','keppel t&t', 'keppel bay', 'keppel telecom','keppel corp','keppel seghers','keppel center','keppel cebu','keppel thai','keppel philippines','keppel tatle','keppel  telecoms','keppel tower']\n",
    "prudentialWord = ['prudential mutual','prudential plc']\n",
    "phrases = pd.DataFrame(data=[],columns=[\"Sentences\"])"
   ]
  },
  {
   "cell_type": "code",
   "execution_count": 8,
   "metadata": {
    "collapsed": true
   },
   "outputs": [],
   "source": [
    "##Code to drop non interesting documents\n",
    "def doWeDrop(sentences):\n",
    "    \"\"\"Return true for document not talking about either Keppel or Prudential\"\"\"\n",
    "    isValid = False\n",
    "    for phrase in sentences:\n",
    "        lowered = phrase.lower()\n",
    "        for expr1 in keppelWord:\n",
    "            if(expr1 in lowered):\n",
    "                isValid = True\n",
    "        for expr2 in prudentialWord:\n",
    "            if(expr2 in lowered):\n",
    "                isValid = True\n",
    "    return not isValid"
   ]
  },
  {
   "cell_type": "code",
   "execution_count": 9,
   "metadata": {
    "collapsed": true
   },
   "outputs": [],
   "source": [
    "##Fill sentences, meaning extract text and summarize it.\n",
    "def fillSentences(path,company):  \n",
    "    try:\n",
    "        text = extract_text.apply(path)\n",
    "        if doWeDrop(text):\n",
    "            return [\"-500\"]\n",
    "        important_sents = text_summarization.apply(text,company)\n",
    "        print(len(important_sents))\n",
    "        return important_sents\n",
    "    except:\n",
    "        print(\"error\")\n",
    "        return [\" \"]"
   ]
  },
  {
   "cell_type": "code",
   "execution_count": null,
   "metadata": {
    "collapsed": true,
    "scrolled": true
   },
   "outputs": [],
   "source": [
    "##Dont't relaunch this it is used to fill the DF, it is realllllly long\n",
    "tqdm().pandas(desc=\"Progress:\")\n",
    "df_files['sentences'] = \"\"\n",
    "phrases[\"Sentences\"] = df_files.progress_apply(lambda row : fillSentences(row[\"file_path\"],row[\"company\"].lower()),axis=1)"
   ]
  },
  {
   "cell_type": "code",
   "execution_count": 9,
   "metadata": {
    "collapsed": true
   },
   "outputs": [],
   "source": [
    "##Load sentences into df_files. (Apply was returning a error due to dimension problem so we used .loc)\n",
    "df_files_new = df_files\n",
    "for i in range(len(phrases.Sentences)):\n",
    "    df_files_new.loc[i,'sentences'] = phrases.Sentences[i]\n"
   ]
  },
  {
   "cell_type": "code",
   "execution_count": 11,
   "metadata": {},
   "outputs": [
    {
     "data": {
      "text/html": [
       "<div>\n",
       "<style>\n",
       "    .dataframe thead tr:only-child th {\n",
       "        text-align: right;\n",
       "    }\n",
       "\n",
       "    .dataframe thead th {\n",
       "        text-align: left;\n",
       "    }\n",
       "\n",
       "    .dataframe tbody tr th {\n",
       "        vertical-align: top;\n",
       "    }\n",
       "</style>\n",
       "<table border=\"1\" class=\"dataframe\">\n",
       "  <thead>\n",
       "    <tr style=\"text-align: right;\">\n",
       "      <th></th>\n",
       "      <th>Unnamed: 0</th>\n",
       "      <th>id</th>\n",
       "      <th>filename</th>\n",
       "      <th>company</th>\n",
       "      <th>file_path</th>\n",
       "      <th>sentiment</th>\n",
       "      <th>sentences</th>\n",
       "    </tr>\n",
       "  </thead>\n",
       "  <tbody>\n",
       "    <tr>\n",
       "      <th>0</th>\n",
       "      <td>0</td>\n",
       "      <td>0</td>\n",
       "      <td>JD_KDCREIT%20-%20Asset%20Mgt_Analyst_2017.pdf</td>\n",
       "      <td>Keppel</td>\n",
       "      <td>files/Keppel/JD_KDCREIT%20-%20Asset%20Mgt_Anal...</td>\n",
       "      <td>NaN</td>\n",
       "      <td>([('Keppel Capital aims to create value and de...</td>\n",
       "    </tr>\n",
       "    <tr>\n",
       "      <th>1</th>\n",
       "      <td>1</td>\n",
       "      <td>1</td>\n",
       "      <td>5f4c7c69049c32670176932fd1d305271372e912.pdf</td>\n",
       "      <td>Keppel</td>\n",
       "      <td>files/Keppel/5f4c7c69049c32670176932fd1d305271...</td>\n",
       "      <td>NaN</td>\n",
       "      <td>([('Company Backg round Keppel is a diversifie...</td>\n",
       "    </tr>\n",
       "    <tr>\n",
       "      <th>2</th>\n",
       "      <td>2</td>\n",
       "      <td>2</td>\n",
       "      <td>20100319_214216_BN4_F6859A6425BC8427482576EB00...</td>\n",
       "      <td>Keppel</td>\n",
       "      <td>files/Keppel/20100319_214216_BN4_F6859A6425BC8...</td>\n",
       "      <td>NaN</td>\n",
       "      <td>([('The new SOCAR-Keppel Shipyard will be deve...</td>\n",
       "    </tr>\n",
       "    <tr>\n",
       "      <th>3</th>\n",
       "      <td>3</td>\n",
       "      <td>3</td>\n",
       "      <td>businessassociatelist--1-.xlsx</td>\n",
       "      <td>Keppel</td>\n",
       "      <td>files/Keppel/businessassociatelist--1-.xlsx</td>\n",
       "      <td>NaN</td>\n",
       "      <td>['-500']</td>\n",
       "    </tr>\n",
       "    <tr>\n",
       "      <th>4</th>\n",
       "      <td>4</td>\n",
       "      <td>4</td>\n",
       "      <td>WSHA2011%20Winners_8%20Aug.pdf</td>\n",
       "      <td>Keppel</td>\n",
       "      <td>files/Keppel/WSHA2011%20Winners_8%20Aug.pdf</td>\n",
       "      <td>NaN</td>\n",
       "      <td>([('Jurong Shipyard Pte Ltd (Songa Eclipse) Ju...</td>\n",
       "    </tr>\n",
       "  </tbody>\n",
       "</table>\n",
       "</div>"
      ],
      "text/plain": [
       "   Unnamed: 0  id                                           filename company  \\\n",
       "0           0   0      JD_KDCREIT%20-%20Asset%20Mgt_Analyst_2017.pdf  Keppel   \n",
       "1           1   1       5f4c7c69049c32670176932fd1d305271372e912.pdf  Keppel   \n",
       "2           2   2  20100319_214216_BN4_F6859A6425BC8427482576EB00...  Keppel   \n",
       "3           3   3                     businessassociatelist--1-.xlsx  Keppel   \n",
       "4           4   4                     WSHA2011%20Winners_8%20Aug.pdf  Keppel   \n",
       "\n",
       "                                           file_path  sentiment  \\\n",
       "0  files/Keppel/JD_KDCREIT%20-%20Asset%20Mgt_Anal...        NaN   \n",
       "1  files/Keppel/5f4c7c69049c32670176932fd1d305271...        NaN   \n",
       "2  files/Keppel/20100319_214216_BN4_F6859A6425BC8...        NaN   \n",
       "3        files/Keppel/businessassociatelist--1-.xlsx        NaN   \n",
       "4        files/Keppel/WSHA2011%20Winners_8%20Aug.pdf        NaN   \n",
       "\n",
       "                                           sentences  \n",
       "0  ([('Keppel Capital aims to create value and de...  \n",
       "1  ([('Company Backg round Keppel is a diversifie...  \n",
       "2  ([('The new SOCAR-Keppel Shipyard will be deve...  \n",
       "3                                           ['-500']  \n",
       "4  ([('Jurong Shipyard Pte Ltd (Songa Eclipse) Ju...  "
      ]
     },
     "execution_count": 11,
     "metadata": {},
     "output_type": "execute_result"
    }
   ],
   "source": [
    "## Save in a csv.\n",
    "df_files_new.to_csv(\"safe/df_file_final.csv\")\n",
    "df_files_new.head()"
   ]
  }
 ],
 "metadata": {
  "kernelspec": {
   "display_name": "Python 3",
   "language": "python",
   "name": "python3"
  },
  "language_info": {
   "codemirror_mode": {
    "name": "ipython",
    "version": 3
   },
   "file_extension": ".py",
   "mimetype": "text/x-python",
   "name": "python",
   "nbconvert_exporter": "python",
   "pygments_lexer": "ipython3",
   "version": "3.6.3"
  }
 },
 "nbformat": 4,
 "nbformat_minor": 2
}
